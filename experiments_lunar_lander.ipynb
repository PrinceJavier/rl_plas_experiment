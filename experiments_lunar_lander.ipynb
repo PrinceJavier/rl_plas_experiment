{
 "cells": [
  {
   "cell_type": "markdown",
   "id": "71b0878a-4047-42af-b5df-115766153692",
   "metadata": {},
   "source": [
    "# Experiments\n"
   ]
  },
  {
   "cell_type": "markdown",
   "id": "ce7cd254-688c-4301-97ec-b2a87a1bf055",
   "metadata": {
    "jp-MarkdownHeadingCollapsed": true,
    "tags": []
   },
   "source": [
    "## Notes"
   ]
  },
  {
   "cell_type": "markdown",
   "id": "4abc68fe-7314-4ee4-aa5c-a6602ea26ad2",
   "metadata": {},
   "source": [
    "* Prerequisites\n",
    "    * `pip3 install torch == 1.2.0`\n",
    "    * `pip3 install gym == 0.23.1`\n",
    "    * `pip3 install mujoco == 2.2.1`\n",
    "* For lunar lander    \n",
    "    * `conda install swig`\n",
    "    * `pip3 install box2d-py`\n",
    "* if there's a`mujoco_py does not exist` error, on the `gym` and/or `d4rl` package, import `mujoco as mujoco_py`\n",
    "    * ~/anaconda3/envs/plas/lib/python3.7/site-packages/gym/envs/mujoco/mujoco_env.py\n",
    "    * ~/anaconda3/envs/plas/lib/python3.7/site-packages/gym/envs/mujoco/pusher.py\n",
    "\n",
    "\n",
    "* Pybullet datasets reference\n",
    "    * https://github.com/takuseno/d4rl-pybullet\n",
    "    * https://github.com/Farama-Foundation/D4RL/tree/f2a05c0d66722499bf8031b094d9af3aea7c372b\n",
    "    \n",
    "* PLAS algorithm\n",
    "    * https://github.com/Wenxuan-Zhou/PLAS\n",
    "* Gym documentation\n",
    "    * https://www.gymlibrary.dev/environments/mujoco/walker2d/"
   ]
  },
  {
   "cell_type": "markdown",
   "id": "baa69fdc-da39-463d-9022-76bbc0ffc974",
   "metadata": {
    "tags": []
   },
   "source": [
    "## Packages"
   ]
  },
  {
   "cell_type": "code",
   "execution_count": 77,
   "id": "9196cdee-bc2d-4526-bcf8-9c2804e237fe",
   "metadata": {},
   "outputs": [],
   "source": [
    "import gym\n",
    "env_name = \"LunarLander-v2\"\n",
    "env = gym.make(\n",
    "    \"LunarLander-v2\",\n",
    "    continuous = True,\n",
    "    gravity = -10.0,\n",
    "    enable_wind = True,\n",
    "    wind_power = 5, # between 0 and 20\n",
    "    turbulence_power = 1, # between 0 and 2\n",
    ")"
   ]
  },
  {
   "cell_type": "code",
   "execution_count": 2,
   "id": "f290ee5d-e15b-4eba-911d-b235134ddd70",
   "metadata": {},
   "outputs": [
    {
     "name": "stderr",
     "output_type": "stream",
     "text": [
      "/home/prince/anaconda3/envs/plas/lib/python3.7/site-packages/ipykernel/ipkernel.py:283: DeprecationWarning: `should_run_async` will not call `transform_cell` automatically in the future. Please pass the result to `transformed_cell` argument and any exception that happen during thetransform in `preprocessing_exc_tuple` in IPython 7.17 and above.\n",
      "  and should_run_async(code)\n",
      "/home/prince/anaconda3/envs/plas/lib/python3.7/site-packages/tqdm/auto.py:22: TqdmWarning: IProgress not found. Please update jupyter and ipywidgets. See https://ipywidgets.readthedocs.io/en/stable/user_install.html\n",
      "  from .autonotebook import tqdm as notebook_tqdm\n"
     ]
    }
   ],
   "source": [
    "\"\"\"\n",
    "Based on https://github.com/sfujim/BCQ\n",
    "\"\"\"\n",
    "import argparse\n",
    "import numpy as np\n",
    "import os\n",
    "import pickle\n",
    "import utils\n",
    "import algos\n",
    "from logger import logger, setup_logger\n",
    "# import d4rl\n",
    "import torch\n",
    "import time\n",
    "from eval_functions import eval_critic\n",
    "import shutil\n",
    "import matplotlib.pyplot as plt\n",
    "from copy import deepcopy\n",
    "import pandas as pd"
   ]
  },
  {
   "cell_type": "code",
   "execution_count": 3,
   "id": "a24634dd-04a8-47f5-bd1f-7aa9efb4185c",
   "metadata": {},
   "outputs": [
    {
     "name": "stdout",
     "output_type": "stream",
     "text": [
      "cuda\n"
     ]
    },
    {
     "name": "stderr",
     "output_type": "stream",
     "text": [
      "/home/prince/anaconda3/envs/plas/lib/python3.7/site-packages/ipykernel/ipkernel.py:283: DeprecationWarning: `should_run_async` will not call `transform_cell` automatically in the future. Please pass the result to `transformed_cell` argument and any exception that happen during thetransform in `preprocessing_exc_tuple` in IPython 7.17 and above.\n",
      "  and should_run_async(code)\n",
      "/home/prince/anaconda3/envs/plas/lib/python3.7/site-packages/torch/cuda/__init__.py:146: UserWarning: \n",
      "NVIDIA GeForce RTX 3070 with CUDA capability sm_86 is not compatible with the current PyTorch installation.\n",
      "The current PyTorch install supports CUDA capabilities sm_37 sm_50 sm_60 sm_70.\n",
      "If you want to use the NVIDIA GeForce RTX 3070 GPU with PyTorch, please check the instructions at https://pytorch.org/get-started/locally/\n",
      "\n",
      "  warnings.warn(incompatible_device_warn.format(device_name, capability, \" \".join(arch_list), device_name))\n"
     ]
    },
    {
     "data": {
      "text/plain": [
       "'NVIDIA GeForce RTX 3070'"
      ]
     },
     "execution_count": 3,
     "metadata": {},
     "output_type": "execute_result"
    }
   ],
   "source": [
    "device = torch.device(\"cuda\" if torch.cuda.is_available() else \"cpu\")\n",
    "# force cpu\n",
    "# device = torch.device(\"cpu\")\n",
    "print(device)\n",
    "torch.cuda.get_device_name(0)"
   ]
  },
  {
   "cell_type": "markdown",
   "id": "566545ff-eccc-4121-b3ff-b4bbba43770d",
   "metadata": {
    "jp-MarkdownHeadingCollapsed": true,
    "tags": []
   },
   "source": [
    "## Gym Environments"
   ]
  },
  {
   "cell_type": "code",
   "execution_count": 4,
   "id": "5ebbfd4e-71d9-40ac-aca7-e928a2372ab0",
   "metadata": {},
   "outputs": [],
   "source": [
    "# print(gym.envs.registry.all())"
   ]
  },
  {
   "cell_type": "markdown",
   "id": "5dd0867d-6f5b-44a6-9c51-b783ac5efe6d",
   "metadata": {
    "jp-MarkdownHeadingCollapsed": true,
    "tags": []
   },
   "source": [
    "## Inputs"
   ]
  },
  {
   "cell_type": "code",
   "execution_count": 5,
   "id": "71432ac0-0201-4245-9af2-64c00e339cdd",
   "metadata": {},
   "outputs": [],
   "source": [
    "# %tb\n",
    "# ORIGINAL INPUTS\n",
    "\n",
    "# parser = argparse.ArgumentParser()\n",
    "\n",
    "# # Additional parameters\n",
    "# parser.add_argument(\"--ExpID\", default=1, type=int)              # Experiment ID\n",
    "# parser.add_argument('--log_dir', default='./results/', type=str)    # Logging directory\n",
    "# parser.add_argument(\"--load_model\", default=None, type=str)         # Load model and optimizer parameters\n",
    "# parser.add_argument(\"--save_model\", default=True, type=bool)        # Save model and optimizer parameters\n",
    "# parser.add_argument(\"--save_freq\", default=1e5, type=int)           # How often it saves the model\n",
    "# #parser.add_argument(\"--env_name\", default=\"walker2d-medium-v0\")     # OpenAI gym environment name\n",
    "# parser.add_argument(\"--env_name\", default='bullet-walker2d-medium-v0')     # OpenAI gym environment name\n",
    "# parser.add_argument(\"--algo_name\", default=\"Latent\")                # Algorithm: Latent or LatentPerturbation.\n",
    "# parser.add_argument(\"--dataset\", default=None, type=str)            # path to dataset if not d4rl env\n",
    "# parser.add_argument(\"--seed\", default=0, type=int)                  # Sets Gym, PyTorch and Numpy seeds\n",
    "# parser.add_argument(\"--eval_freq\", default=1e3, type=int)           # How often (time steps) we evaluate\n",
    "# parser.add_argument(\"--max_timesteps\", default=5e5, type=int)       # Max time steps to run environment for\n",
    "# parser.add_argument('--vae_mode', default='train', type=str)\t\t# VAE mode: train or load from a specific version\n",
    "# parser.add_argument('--vae_lr', default=1e-4, type=float)\t\t    # vae training iterations\n",
    "# parser.add_argument('--vae_itr', default=500000, type=int)\t\t    # vae training iterations\n",
    "# parser.add_argument('--vae_hidden_size', default=750, type=int)\t\t# vae training iterations\n",
    "# parser.add_argument('--max_latent_action', default=2., type=float)  # max action of the latent policy\n",
    "# parser.add_argument('--phi', default=0., type=float)\t            # max perturbation\n",
    "# parser.add_argument('--batch_size', default=100, type=int)\t        # batch size\n",
    "# parser.add_argument('--actor_lr', default=1e-4, type=float)\t        # policy learning rate\n",
    "# parser.add_argument('--critic_lr', default=1e-3, type=float)\t    # policy learning rate\n",
    "# parser.add_argument('--tau', default=0.005, type=float)\t            # actor network size\n",
    "\n",
    "# # args = parser.parse_args()\n",
    "# args = parser.parse_args(\"\")"
   ]
  },
  {
   "cell_type": "code",
   "execution_count": 6,
   "id": "dc96cea9-65f0-40ac-9ba4-e0e744edeea0",
   "metadata": {},
   "outputs": [
    {
     "name": "stderr",
     "output_type": "stream",
     "text": [
      "No traceback available to show.\n"
     ]
    }
   ],
   "source": [
    "%tb\n",
    "\n",
    "div = 10\n",
    "\n",
    "parser = argparse.ArgumentParser()\n",
    "\n",
    "# Additional parameters\n",
    "parser.add_argument(\"--ExpID\", default=2, type=int)                      # Experiment ID\n",
    "parser.add_argument('--log_dir', default='./results/', type=str)         # Logging directory\n",
    "parser.add_argument(\"--load_model\", default=None, type=str)              # Load model and optimizer parameters\n",
    "parser.add_argument(\"--save_model\", default=True, type=bool)             # Save model and optimizer parameters\n",
    "parser.add_argument(\"--save_freq\", default=1e3//div, type=int)           # How often it saves the model\n",
    "parser.add_argument(\"--env_name\", default=env_name)   # OpenAI gym environment name\n",
    "parser.add_argument(\"--algo_name\", default=\"Latent\")                     # Algorithm: Latent or LatentPerturbation.\n",
    "parser.add_argument(\"--dataset\", default=None, type=str)                 # path to dataset if not d4rl env\n",
    "parser.add_argument(\"--seed\", default=0, type=int)                       # Sets Gym, PyTorch and Numpy seeds\n",
    "parser.add_argument(\"--eval_freq\", default=1e3//div, type=int)           # How often (time steps) we evaluate\n",
    "parser.add_argument(\"--max_timesteps\", default=5e3, type=int)            # Max time steps to run environment for\n",
    "parser.add_argument('--vae_mode', default='train', type=str)\t\t     # VAE mode: train or load from a specific version\n",
    "parser.add_argument('--vae_lr', default=1e-4, type=float)                # vae training iterations\n",
    "parser.add_argument('--vae_itr', default=500000//div, type=int)\t\t     # vae training iterations\n",
    "parser.add_argument('--vae_hidden_size', default=128, type=int)\t\t     # vae training iterations\n",
    "parser.add_argument('--max_latent_action', default=2., type=float)       # max action of the latent policy\n",
    "parser.add_argument('--phi', default=0., type=float)\t                 # max perturbation\n",
    "parser.add_argument('--batch_size', default=100, type=int)\t             # batch size\n",
    "parser.add_argument('--actor_lr', default=1e-4, type=float)\t             # policy learning rate\n",
    "parser.add_argument('--critic_lr', default=1e-3, type=float)\t         # policy learning rate\n",
    "parser.add_argument('--tau', default=0.005, type=float)\t                 # actor network size\n",
    "\n",
    "# args = parser.parse_args()\n",
    "args = parser.parse_args(\"\")"
   ]
  },
  {
   "cell_type": "markdown",
   "id": "ca6e42f3-6843-4e5c-a2f0-7b1a6e308511",
   "metadata": {
    "jp-MarkdownHeadingCollapsed": true,
    "tags": []
   },
   "source": [
    "## Setup"
   ]
  },
  {
   "cell_type": "markdown",
   "id": "079fc3df-4937-4acd-9e8e-252ed97697ab",
   "metadata": {},
   "source": [
    "### Folders, Logging"
   ]
  },
  {
   "cell_type": "code",
   "execution_count": 7,
   "id": "f945a8b2-8f1c-4a26-94ab-cd3be5ec10f7",
   "metadata": {},
   "outputs": [],
   "source": [
    "# # delete results\n",
    "# if os.path.isdir('./results'):\n",
    "#     shutil.rmtree('./results/')"
   ]
  },
  {
   "cell_type": "code",
   "execution_count": 8,
   "id": "181f2f47-eee9-4479-bb87-ca8bb8f6b4e2",
   "metadata": {},
   "outputs": [
    {
     "name": "stdout",
     "output_type": "stream",
     "text": [
      "./results/Exp0002_Latent_LunarLander-v2-0\n",
      "2022-09-05 23:04:41.418493 PST | Variant:\n",
      "2022-09-05 23:04:41.418821 PST | {\n",
      "  \"ExpID\": 2,\n",
      "  \"log_dir\": \"./results/\",\n",
      "  \"load_model\": null,\n",
      "  \"save_model\": true,\n",
      "  \"save_freq\": 100.0,\n",
      "  \"env_name\": \"LunarLander-v2\",\n",
      "  \"algo_name\": \"Latent\",\n",
      "  \"dataset\": \"LunarLander-v2\",\n",
      "  \"seed\": 0,\n",
      "  \"eval_freq\": 100.0,\n",
      "  \"max_timesteps\": 5000.0,\n",
      "  \"vae_mode\": \"train\",\n",
      "  \"vae_lr\": 0.0001,\n",
      "  \"vae_itr\": 50000,\n",
      "  \"vae_hidden_size\": 128,\n",
      "  \"max_latent_action\": 2.0,\n",
      "  \"phi\": 0.0,\n",
      "  \"batch_size\": 100,\n",
      "  \"actor_lr\": 0.0001,\n",
      "  \"critic_lr\": 0.001,\n",
      "  \"tau\": 0.005,\n",
      "  \"node\": \"computer\"\n",
      "}\n"
     ]
    },
    {
     "data": {
      "text/plain": [
       "'./results/Exp0002_Latent_LunarLander-v2-0'"
      ]
     },
     "execution_count": 8,
     "metadata": {},
     "output_type": "execute_result"
    }
   ],
   "source": [
    "if args.dataset is None:\n",
    "    args.dataset = args.env_name\n",
    "\n",
    "# Setup Logging\n",
    "file_name = f\"Exp{args.ExpID:04d}_{args.algo_name}_{args.dataset}-{args.seed}\"\n",
    "folder_name = os.path.join(args.log_dir, file_name)\n",
    "if not os.path.exists(folder_name):\n",
    "    os.makedirs(folder_name)\n",
    "print(folder_name)\n",
    "if os.path.exists(os.path.join(folder_name, 'variant.json')):\n",
    "    shutil.rmtree(folder_name)\n",
    "variant = vars(args)\n",
    "variant.update(node=os.uname()[1])\n",
    "setup_logger(os.path.basename(folder_name), variant=variant, log_dir=folder_name)"
   ]
  },
  {
   "cell_type": "markdown",
   "id": "bf57f860-2cf1-4e4f-86d8-318bf272b310",
   "metadata": {},
   "source": [
    "### Environment"
   ]
  },
  {
   "cell_type": "code",
   "execution_count": 9,
   "id": "e7873784-fd84-46b6-98c1-422ab9646556",
   "metadata": {},
   "outputs": [
    {
     "name": "stdout",
     "output_type": "stream",
     "text": [
      "<TimeLimit<OrderEnforcing<StepAPICompatibility<PassiveEnvChecker<LunarLander<LunarLander-v2>>>>>>\n",
      "8\n",
      "2\n",
      "1.0\n"
     ]
    },
    {
     "name": "stderr",
     "output_type": "stream",
     "text": [
      "/home/prince/anaconda3/envs/plas/lib/python3.7/site-packages/gym/core.py:257: DeprecationWarning: \u001b[33mWARN: Function `env.seed(seed)` is marked as deprecated and will be removed in the future. Please use `env.reset(seed=seed)` instead.\u001b[0m\n",
      "  \"Function `env.seed(seed)` is marked as deprecated and will be removed in the future. \"\n"
     ]
    }
   ],
   "source": [
    "# Setup Environment\n",
    "\n",
    "state_dim = env.observation_space.shape[0]\n",
    "action_dim = env.action_space.shape[0]\n",
    "max_action = float(env.action_space.high[0])\n",
    "\n",
    "# Set seeds\n",
    "env.seed(args.seed)\n",
    "env.action_space.seed(args.seed)\n",
    "torch.manual_seed(args.seed)\n",
    "np.random.seed(args.seed)\n",
    "\n",
    "# check\n",
    "print(env)\n",
    "print(state_dim)\n",
    "print(action_dim)\n",
    "print(max_action)"
   ]
  },
  {
   "cell_type": "markdown",
   "id": "c51e7189-441d-48c0-9768-3959b8b4750e",
   "metadata": {
    "jp-MarkdownHeadingCollapsed": true,
    "tags": []
   },
   "source": [
    "## Load Dataset"
   ]
  },
  {
   "cell_type": "code",
   "execution_count": 10,
   "id": "90872e0d-e41e-4dbd-becc-703b290ff6f5",
   "metadata": {},
   "outputs": [],
   "source": [
    "import joblib\n",
    "dataset = joblib.load('lunar_lander_data_1.joblib')"
   ]
  },
  {
   "cell_type": "code",
   "execution_count": 11,
   "id": "58ec8495-e13e-40d3-916d-9e67d7446c85",
   "metadata": {},
   "outputs": [],
   "source": [
    "# # Load Dataset\n",
    "# if args.env_name == args.dataset:\n",
    "#     dataset = d4rl.qlearning_dataset(env)  # Load d4rl dataset\n",
    "# else:\n",
    "#     if args.dataset == 'hopper-medium-expert':\n",
    "#         dataset1 = d4rl.qlearning_dataset(gym.make('hopper-medium-v0'))\n",
    "#         dataset2 = d4rl.qlearning_dataset(gym.make('hopper-expert-v0'))\n",
    "#         dataset = {key:np.concatenate([dataset1[key], dataset2[key]]) for key in dataset1.keys()}\n",
    "#         print(\"Loaded data from hopper-medium-v0 and hopper-expert-v0\")\n",
    "#     else:\n",
    "#         dataset_file = os.path.dirname(os.path.abspath(__file__)) + '/dataset/'+args.dataset + '.pkl'\n",
    "#         dataset = pickle.load(open(dataset_file,'rb'))\n",
    "#         print(\"Loaded data from \"+dataset_file)"
   ]
  },
  {
   "cell_type": "code",
   "execution_count": 12,
   "id": "79c2b869-39ec-44b0-a3f8-6a6600326548",
   "metadata": {},
   "outputs": [
    {
     "data": {
      "text/plain": [
       "dict"
      ]
     },
     "execution_count": 12,
     "metadata": {},
     "output_type": "execute_result"
    }
   ],
   "source": [
    "type(dataset)"
   ]
  },
  {
   "cell_type": "code",
   "execution_count": 13,
   "id": "971bffe8-e8e5-477b-9ac2-3eebc6a5091c",
   "metadata": {},
   "outputs": [
    {
     "name": "stdout",
     "output_type": "stream",
     "text": [
      "(1000000, 8)\n",
      "(1000000, 2)\n",
      "(1000000,)\n",
      "(1000000,)\n"
     ]
    }
   ],
   "source": [
    "print(dataset['observations'].shape)\n",
    "print(dataset['actions'].shape)\n",
    "print(dataset['rewards'].shape)\n",
    "print(dataset['terminals'].shape)"
   ]
  },
  {
   "cell_type": "code",
   "execution_count": 14,
   "id": "93ae0603-3273-4436-949c-70756729572a",
   "metadata": {
    "scrolled": true,
    "tags": []
   },
   "outputs": [
    {
     "data": {
      "text/plain": [
       "{'observations': array([[-0.00364981,  1.401389  , -0.3695014 , ...,  0.08013613,\n",
       "          0.        ,  0.        ],\n",
       "        [-0.00738592,  1.3919297 , -0.37510854, ...,  0.02964405,\n",
       "          0.        ,  0.        ],\n",
       "        [-0.01107321,  1.383275  , -0.36796576, ..., -0.01498931,\n",
       "          0.        ,  0.        ],\n",
       "        ...,\n",
       "        [ 0.10738926, -0.00902727, -0.04648383, ..., -0.10661718,\n",
       "          1.        ,  1.        ],\n",
       "        [ 0.10695448, -0.00927435, -0.04161075, ..., -0.03685624,\n",
       "          1.        ,  1.        ],\n",
       "        [ 0.10659828, -0.00905917, -0.03723424, ...,  0.03204504,\n",
       "          1.        ,  1.        ]], dtype=float32),\n",
       " 'actions': array([[ 1.        ,  1.        ],\n",
       "        [ 1.        ,  1.        ],\n",
       "        [ 1.        ,  0.9151318 ],\n",
       "        ...,\n",
       "        [-1.        , -0.6293514 ],\n",
       "        [-1.        , -0.53526896],\n",
       "        [-1.        , -0.4203244 ]], dtype=float32),\n",
       " 'next_observations': array([[-0.00738592,  1.3919297 , -0.37510854, ...,  0.02964405,\n",
       "          0.        ,  0.        ],\n",
       "        [-0.01107321,  1.383275  , -0.36796576, ..., -0.01498931,\n",
       "          0.        ,  0.        ],\n",
       "        [-0.01477966,  1.3754597 , -0.3676588 , ..., -0.05927115,\n",
       "          0.        ,  0.        ],\n",
       "        ...,\n",
       "        [ 0.10695448, -0.00927435, -0.04161075, ..., -0.03685624,\n",
       "          1.        ,  1.        ],\n",
       "        [ 0.10659828, -0.00905917, -0.03723424, ...,  0.03204504,\n",
       "          1.        ,  1.        ],\n",
       "        [ 0.10635452, -0.0084747 , -0.02869979, ...,  0.08569349,\n",
       "          1.        ,  1.        ]], dtype=float32),\n",
       " 'rewards': array([0.33542185, 3.71928767, 3.39987606, ..., 1.16802528, 0.6410607 ,\n",
       "        0.421295  ]),\n",
       " 'terminals': array([False, False, False, ..., False, False, False])}"
      ]
     },
     "execution_count": 14,
     "metadata": {},
     "output_type": "execute_result"
    }
   ],
   "source": [
    "dataset"
   ]
  },
  {
   "cell_type": "code",
   "execution_count": 15,
   "id": "e609958c-f906-43e1-97ce-74ad79f3b69b",
   "metadata": {},
   "outputs": [
    {
     "data": {
      "text/plain": [
       "array([False, False, False, ..., False, False, False])"
      ]
     },
     "execution_count": 15,
     "metadata": {},
     "output_type": "execute_result"
    }
   ],
   "source": [
    "dataset['terminals']"
   ]
  },
  {
   "cell_type": "code",
   "execution_count": 16,
   "id": "d06edf20-8175-42b4-a734-771193e5e4df",
   "metadata": {},
   "outputs": [
    {
     "data": {
      "text/html": [
       "<div>\n",
       "<style scoped>\n",
       "    .dataframe tbody tr th:only-of-type {\n",
       "        vertical-align: middle;\n",
       "    }\n",
       "\n",
       "    .dataframe tbody tr th {\n",
       "        vertical-align: top;\n",
       "    }\n",
       "\n",
       "    .dataframe thead th {\n",
       "        text-align: right;\n",
       "    }\n",
       "</style>\n",
       "<table border=\"1\" class=\"dataframe\">\n",
       "  <thead>\n",
       "    <tr style=\"text-align: right;\">\n",
       "      <th></th>\n",
       "      <th>0</th>\n",
       "      <th>1</th>\n",
       "      <th>2</th>\n",
       "      <th>3</th>\n",
       "      <th>4</th>\n",
       "      <th>5</th>\n",
       "      <th>6</th>\n",
       "      <th>7</th>\n",
       "    </tr>\n",
       "  </thead>\n",
       "  <tbody>\n",
       "    <tr>\n",
       "      <th>0</th>\n",
       "      <td>-0.003650</td>\n",
       "      <td>1.401389</td>\n",
       "      <td>-0.369501</td>\n",
       "      <td>-0.423611</td>\n",
       "      <td>0.004054</td>\n",
       "      <td>0.080136</td>\n",
       "      <td>0.0</td>\n",
       "      <td>0.0</td>\n",
       "    </tr>\n",
       "    <tr>\n",
       "      <th>1</th>\n",
       "      <td>-0.007386</td>\n",
       "      <td>1.391930</td>\n",
       "      <td>-0.375109</td>\n",
       "      <td>-0.420409</td>\n",
       "      <td>0.005536</td>\n",
       "      <td>0.029644</td>\n",
       "      <td>0.0</td>\n",
       "      <td>0.0</td>\n",
       "    </tr>\n",
       "    <tr>\n",
       "      <th>2</th>\n",
       "      <td>-0.011073</td>\n",
       "      <td>1.383275</td>\n",
       "      <td>-0.367966</td>\n",
       "      <td>-0.384654</td>\n",
       "      <td>0.004786</td>\n",
       "      <td>-0.014989</td>\n",
       "      <td>0.0</td>\n",
       "      <td>0.0</td>\n",
       "    </tr>\n",
       "    <tr>\n",
       "      <th>3</th>\n",
       "      <td>-0.014780</td>\n",
       "      <td>1.375460</td>\n",
       "      <td>-0.367659</td>\n",
       "      <td>-0.347339</td>\n",
       "      <td>0.001823</td>\n",
       "      <td>-0.059271</td>\n",
       "      <td>0.0</td>\n",
       "      <td>0.0</td>\n",
       "    </tr>\n",
       "    <tr>\n",
       "      <th>4</th>\n",
       "      <td>-0.018521</td>\n",
       "      <td>1.367763</td>\n",
       "      <td>-0.369103</td>\n",
       "      <td>-0.342062</td>\n",
       "      <td>-0.003140</td>\n",
       "      <td>-0.099267</td>\n",
       "      <td>0.0</td>\n",
       "      <td>0.0</td>\n",
       "    </tr>\n",
       "    <tr>\n",
       "      <th>...</th>\n",
       "      <td>...</td>\n",
       "      <td>...</td>\n",
       "      <td>...</td>\n",
       "      <td>...</td>\n",
       "      <td>...</td>\n",
       "      <td>...</td>\n",
       "      <td>...</td>\n",
       "      <td>...</td>\n",
       "    </tr>\n",
       "    <tr>\n",
       "      <th>999995</th>\n",
       "      <td>0.108483</td>\n",
       "      <td>-0.007122</td>\n",
       "      <td>-0.045787</td>\n",
       "      <td>-0.076514</td>\n",
       "      <td>-0.045269</td>\n",
       "      <td>-0.260364</td>\n",
       "      <td>1.0</td>\n",
       "      <td>1.0</td>\n",
       "    </tr>\n",
       "    <tr>\n",
       "      <th>999996</th>\n",
       "      <td>0.107908</td>\n",
       "      <td>-0.008315</td>\n",
       "      <td>-0.048473</td>\n",
       "      <td>-0.053323</td>\n",
       "      <td>-0.054214</td>\n",
       "      <td>-0.178912</td>\n",
       "      <td>1.0</td>\n",
       "      <td>1.0</td>\n",
       "    </tr>\n",
       "    <tr>\n",
       "      <th>999997</th>\n",
       "      <td>0.107389</td>\n",
       "      <td>-0.009027</td>\n",
       "      <td>-0.046484</td>\n",
       "      <td>-0.031862</td>\n",
       "      <td>-0.059546</td>\n",
       "      <td>-0.106617</td>\n",
       "      <td>1.0</td>\n",
       "      <td>1.0</td>\n",
       "    </tr>\n",
       "    <tr>\n",
       "      <th>999998</th>\n",
       "      <td>0.106954</td>\n",
       "      <td>-0.009274</td>\n",
       "      <td>-0.041611</td>\n",
       "      <td>-0.011058</td>\n",
       "      <td>-0.061390</td>\n",
       "      <td>-0.036856</td>\n",
       "      <td>1.0</td>\n",
       "      <td>1.0</td>\n",
       "    </tr>\n",
       "    <tr>\n",
       "      <th>999999</th>\n",
       "      <td>0.106598</td>\n",
       "      <td>-0.009059</td>\n",
       "      <td>-0.037234</td>\n",
       "      <td>0.009628</td>\n",
       "      <td>-0.059788</td>\n",
       "      <td>0.032045</td>\n",
       "      <td>1.0</td>\n",
       "      <td>1.0</td>\n",
       "    </tr>\n",
       "  </tbody>\n",
       "</table>\n",
       "<p>1000000 rows × 8 columns</p>\n",
       "</div>"
      ],
      "text/plain": [
       "               0         1         2         3         4         5    6    7\n",
       "0      -0.003650  1.401389 -0.369501 -0.423611  0.004054  0.080136  0.0  0.0\n",
       "1      -0.007386  1.391930 -0.375109 -0.420409  0.005536  0.029644  0.0  0.0\n",
       "2      -0.011073  1.383275 -0.367966 -0.384654  0.004786 -0.014989  0.0  0.0\n",
       "3      -0.014780  1.375460 -0.367659 -0.347339  0.001823 -0.059271  0.0  0.0\n",
       "4      -0.018521  1.367763 -0.369103 -0.342062 -0.003140 -0.099267  0.0  0.0\n",
       "...          ...       ...       ...       ...       ...       ...  ...  ...\n",
       "999995  0.108483 -0.007122 -0.045787 -0.076514 -0.045269 -0.260364  1.0  1.0\n",
       "999996  0.107908 -0.008315 -0.048473 -0.053323 -0.054214 -0.178912  1.0  1.0\n",
       "999997  0.107389 -0.009027 -0.046484 -0.031862 -0.059546 -0.106617  1.0  1.0\n",
       "999998  0.106954 -0.009274 -0.041611 -0.011058 -0.061390 -0.036856  1.0  1.0\n",
       "999999  0.106598 -0.009059 -0.037234  0.009628 -0.059788  0.032045  1.0  1.0\n",
       "\n",
       "[1000000 rows x 8 columns]"
      ]
     },
     "execution_count": 16,
     "metadata": {},
     "output_type": "execute_result"
    }
   ],
   "source": [
    "pd.DataFrame(dataset['observations'])"
   ]
  },
  {
   "cell_type": "code",
   "execution_count": 17,
   "id": "e9715c50-bf7c-4ee0-b9cb-9e83303d6e2f",
   "metadata": {},
   "outputs": [
    {
     "name": "stderr",
     "output_type": "stream",
     "text": [
      "/home/prince/anaconda3/envs/plas/lib/python3.7/site-packages/ipykernel/ipkernel.py:283: DeprecationWarning: `should_run_async` will not call `transform_cell` automatically in the future. Please pass the result to `transformed_cell` argument and any exception that happen during thetransform in `preprocessing_exc_tuple` in IPython 7.17 and above.\n",
      "  and should_run_async(code)\n"
     ]
    },
    {
     "data": {
      "text/html": [
       "<div>\n",
       "<style scoped>\n",
       "    .dataframe tbody tr th:only-of-type {\n",
       "        vertical-align: middle;\n",
       "    }\n",
       "\n",
       "    .dataframe tbody tr th {\n",
       "        vertical-align: top;\n",
       "    }\n",
       "\n",
       "    .dataframe thead th {\n",
       "        text-align: right;\n",
       "    }\n",
       "</style>\n",
       "<table border=\"1\" class=\"dataframe\">\n",
       "  <thead>\n",
       "    <tr style=\"text-align: right;\">\n",
       "      <th></th>\n",
       "      <th>0</th>\n",
       "      <th>1</th>\n",
       "    </tr>\n",
       "  </thead>\n",
       "  <tbody>\n",
       "    <tr>\n",
       "      <th>0</th>\n",
       "      <td>1.0</td>\n",
       "      <td>1.000000</td>\n",
       "    </tr>\n",
       "    <tr>\n",
       "      <th>1</th>\n",
       "      <td>1.0</td>\n",
       "      <td>1.000000</td>\n",
       "    </tr>\n",
       "    <tr>\n",
       "      <th>2</th>\n",
       "      <td>1.0</td>\n",
       "      <td>0.915132</td>\n",
       "    </tr>\n",
       "    <tr>\n",
       "      <th>3</th>\n",
       "      <td>1.0</td>\n",
       "      <td>0.773625</td>\n",
       "    </tr>\n",
       "    <tr>\n",
       "      <th>4</th>\n",
       "      <td>1.0</td>\n",
       "      <td>0.632739</td>\n",
       "    </tr>\n",
       "    <tr>\n",
       "      <th>...</th>\n",
       "      <td>...</td>\n",
       "      <td>...</td>\n",
       "    </tr>\n",
       "    <tr>\n",
       "      <th>999995</th>\n",
       "      <td>-1.0</td>\n",
       "      <td>-0.796613</td>\n",
       "    </tr>\n",
       "    <tr>\n",
       "      <th>999996</th>\n",
       "      <td>-1.0</td>\n",
       "      <td>-0.712153</td>\n",
       "    </tr>\n",
       "    <tr>\n",
       "      <th>999997</th>\n",
       "      <td>-1.0</td>\n",
       "      <td>-0.629351</td>\n",
       "    </tr>\n",
       "    <tr>\n",
       "      <th>999998</th>\n",
       "      <td>-1.0</td>\n",
       "      <td>-0.535269</td>\n",
       "    </tr>\n",
       "    <tr>\n",
       "      <th>999999</th>\n",
       "      <td>-1.0</td>\n",
       "      <td>-0.420324</td>\n",
       "    </tr>\n",
       "  </tbody>\n",
       "</table>\n",
       "<p>1000000 rows × 2 columns</p>\n",
       "</div>"
      ],
      "text/plain": [
       "          0         1\n",
       "0       1.0  1.000000\n",
       "1       1.0  1.000000\n",
       "2       1.0  0.915132\n",
       "3       1.0  0.773625\n",
       "4       1.0  0.632739\n",
       "...     ...       ...\n",
       "999995 -1.0 -0.796613\n",
       "999996 -1.0 -0.712153\n",
       "999997 -1.0 -0.629351\n",
       "999998 -1.0 -0.535269\n",
       "999999 -1.0 -0.420324\n",
       "\n",
       "[1000000 rows x 2 columns]"
      ]
     },
     "execution_count": 17,
     "metadata": {},
     "output_type": "execute_result"
    }
   ],
   "source": [
    "pd.DataFrame(dataset['actions'])"
   ]
  },
  {
   "cell_type": "code",
   "execution_count": 18,
   "id": "0e89affe-2be1-43e6-a708-4d861675ee49",
   "metadata": {},
   "outputs": [
    {
     "name": "stderr",
     "output_type": "stream",
     "text": [
      "/home/prince/anaconda3/envs/plas/lib/python3.7/site-packages/ipykernel/ipkernel.py:283: DeprecationWarning: `should_run_async` will not call `transform_cell` automatically in the future. Please pass the result to `transformed_cell` argument and any exception that happen during thetransform in `preprocessing_exc_tuple` in IPython 7.17 and above.\n",
      "  and should_run_async(code)\n"
     ]
    },
    {
     "data": {
      "text/html": [
       "<div>\n",
       "<style scoped>\n",
       "    .dataframe tbody tr th:only-of-type {\n",
       "        vertical-align: middle;\n",
       "    }\n",
       "\n",
       "    .dataframe tbody tr th {\n",
       "        vertical-align: top;\n",
       "    }\n",
       "\n",
       "    .dataframe thead th {\n",
       "        text-align: right;\n",
       "    }\n",
       "</style>\n",
       "<table border=\"1\" class=\"dataframe\">\n",
       "  <thead>\n",
       "    <tr style=\"text-align: right;\">\n",
       "      <th></th>\n",
       "      <th>0</th>\n",
       "    </tr>\n",
       "  </thead>\n",
       "  <tbody>\n",
       "    <tr>\n",
       "      <th>0</th>\n",
       "      <td>0.335422</td>\n",
       "    </tr>\n",
       "    <tr>\n",
       "      <th>1</th>\n",
       "      <td>3.719288</td>\n",
       "    </tr>\n",
       "    <tr>\n",
       "      <th>2</th>\n",
       "      <td>3.399876</td>\n",
       "    </tr>\n",
       "    <tr>\n",
       "      <th>3</th>\n",
       "      <td>0.565279</td>\n",
       "    </tr>\n",
       "    <tr>\n",
       "      <th>4</th>\n",
       "      <td>3.377830</td>\n",
       "    </tr>\n",
       "    <tr>\n",
       "      <th>...</th>\n",
       "      <td>...</td>\n",
       "    </tr>\n",
       "    <tr>\n",
       "      <th>999995</th>\n",
       "      <td>0.840995</td>\n",
       "    </tr>\n",
       "    <tr>\n",
       "      <th>999996</th>\n",
       "      <td>1.062130</td>\n",
       "    </tr>\n",
       "    <tr>\n",
       "      <th>999997</th>\n",
       "      <td>1.168025</td>\n",
       "    </tr>\n",
       "    <tr>\n",
       "      <th>999998</th>\n",
       "      <td>0.641061</td>\n",
       "    </tr>\n",
       "    <tr>\n",
       "      <th>999999</th>\n",
       "      <td>0.421295</td>\n",
       "    </tr>\n",
       "  </tbody>\n",
       "</table>\n",
       "<p>1000000 rows × 1 columns</p>\n",
       "</div>"
      ],
      "text/plain": [
       "               0\n",
       "0       0.335422\n",
       "1       3.719288\n",
       "2       3.399876\n",
       "3       0.565279\n",
       "4       3.377830\n",
       "...          ...\n",
       "999995  0.840995\n",
       "999996  1.062130\n",
       "999997  1.168025\n",
       "999998  0.641061\n",
       "999999  0.421295\n",
       "\n",
       "[1000000 rows x 1 columns]"
      ]
     },
     "execution_count": 18,
     "metadata": {},
     "output_type": "execute_result"
    }
   ],
   "source": [
    "pd.DataFrame(dataset['rewards'])"
   ]
  },
  {
   "cell_type": "code",
   "execution_count": 19,
   "id": "6e693102-efc4-49c0-bba0-0b294a89d2e0",
   "metadata": {},
   "outputs": [
    {
     "name": "stderr",
     "output_type": "stream",
     "text": [
      "/home/prince/anaconda3/envs/plas/lib/python3.7/site-packages/ipykernel/ipkernel.py:283: DeprecationWarning: `should_run_async` will not call `transform_cell` automatically in the future. Please pass the result to `transformed_cell` argument and any exception that happen during thetransform in `preprocessing_exc_tuple` in IPython 7.17 and above.\n",
      "  and should_run_async(code)\n"
     ]
    },
    {
     "data": {
      "text/html": [
       "<div>\n",
       "<style scoped>\n",
       "    .dataframe tbody tr th:only-of-type {\n",
       "        vertical-align: middle;\n",
       "    }\n",
       "\n",
       "    .dataframe tbody tr th {\n",
       "        vertical-align: top;\n",
       "    }\n",
       "\n",
       "    .dataframe thead th {\n",
       "        text-align: right;\n",
       "    }\n",
       "</style>\n",
       "<table border=\"1\" class=\"dataframe\">\n",
       "  <thead>\n",
       "    <tr style=\"text-align: right;\">\n",
       "      <th></th>\n",
       "      <th>0</th>\n",
       "    </tr>\n",
       "  </thead>\n",
       "  <tbody>\n",
       "    <tr>\n",
       "      <th>0</th>\n",
       "      <td>False</td>\n",
       "    </tr>\n",
       "    <tr>\n",
       "      <th>1</th>\n",
       "      <td>False</td>\n",
       "    </tr>\n",
       "    <tr>\n",
       "      <th>2</th>\n",
       "      <td>False</td>\n",
       "    </tr>\n",
       "    <tr>\n",
       "      <th>3</th>\n",
       "      <td>False</td>\n",
       "    </tr>\n",
       "    <tr>\n",
       "      <th>4</th>\n",
       "      <td>False</td>\n",
       "    </tr>\n",
       "    <tr>\n",
       "      <th>...</th>\n",
       "      <td>...</td>\n",
       "    </tr>\n",
       "    <tr>\n",
       "      <th>999995</th>\n",
       "      <td>False</td>\n",
       "    </tr>\n",
       "    <tr>\n",
       "      <th>999996</th>\n",
       "      <td>False</td>\n",
       "    </tr>\n",
       "    <tr>\n",
       "      <th>999997</th>\n",
       "      <td>False</td>\n",
       "    </tr>\n",
       "    <tr>\n",
       "      <th>999998</th>\n",
       "      <td>False</td>\n",
       "    </tr>\n",
       "    <tr>\n",
       "      <th>999999</th>\n",
       "      <td>False</td>\n",
       "    </tr>\n",
       "  </tbody>\n",
       "</table>\n",
       "<p>1000000 rows × 1 columns</p>\n",
       "</div>"
      ],
      "text/plain": [
       "            0\n",
       "0       False\n",
       "1       False\n",
       "2       False\n",
       "3       False\n",
       "4       False\n",
       "...       ...\n",
       "999995  False\n",
       "999996  False\n",
       "999997  False\n",
       "999998  False\n",
       "999999  False\n",
       "\n",
       "[1000000 rows x 1 columns]"
      ]
     },
     "execution_count": 19,
     "metadata": {},
     "output_type": "execute_result"
    }
   ],
   "source": [
    "pd.DataFrame(dataset['terminals'])"
   ]
  },
  {
   "cell_type": "markdown",
   "id": "3a87c17b-637c-4742-a99b-b70baea3a27e",
   "metadata": {
    "jp-MarkdownHeadingCollapsed": true,
    "tags": []
   },
   "source": [
    "## Train"
   ]
  },
  {
   "cell_type": "code",
   "execution_count": 20,
   "id": "162ce1bf-e4a4-40ed-b253-09677a6c1bbc",
   "metadata": {},
   "outputs": [
    {
     "name": "stderr",
     "output_type": "stream",
     "text": [
      "/home/prince/anaconda3/envs/plas/lib/python3.7/site-packages/ipykernel/ipkernel.py:283: DeprecationWarning: `should_run_async` will not call `transform_cell` automatically in the future. Please pass the result to `transformed_cell` argument and any exception that happen during thetransform in `preprocessing_exc_tuple` in IPython 7.17 and above.\n",
      "  and should_run_async(code)\n"
     ]
    },
    {
     "data": {
      "text/plain": [
       "(8, 2, 4, 1.0, 0.0001, 128)"
      ]
     },
     "execution_count": 20,
     "metadata": {},
     "output_type": "execute_result"
    }
   ],
   "source": [
    "latent_dim = action_dim * 2\n",
    "state_dim, action_dim, latent_dim, max_action, args.vae_lr, args.vae_hidden_size"
   ]
  },
  {
   "cell_type": "code",
   "execution_count": 21,
   "id": "8f783b24-db0b-4d82-ba7c-cb60d57477b5",
   "metadata": {},
   "outputs": [],
   "source": [
    "# Define VAE\n",
    "vae_trainer = algos.VAEModule(state_dim, action_dim, latent_dim, max_action, vae_lr=args.vae_lr, hidden_size=args.vae_hidden_size)"
   ]
  },
  {
   "cell_type": "code",
   "execution_count": 22,
   "id": "a180a298-b849-4afa-97d6-4d571bca0767",
   "metadata": {},
   "outputs": [
    {
     "name": "stdout",
     "output_type": "stream",
     "text": [
      "Mon Sep  5 23:04:41 2022 Training VAE...\n",
      "Itr 50000 Training loss:3.04e-05\n"
     ]
    }
   ],
   "source": [
    "# Train or Load VAE\n",
    "if args.vae_mode == 'train':\n",
    "    # Train VAE\n",
    "    print(time.ctime(), \"Training VAE...\")\n",
    "    logs = vae_trainer.train(dataset, folder_name, iterations=args.vae_itr)\n",
    "else:\n",
    "    # Select vae automatically\n",
    "    vae_dirname = os.path.dirname(os.path.abspath(__file__)) + '/models/vae_' + args.vae_mode\n",
    "    vae_filename = args.dataset + '-' + str(args.seed)\n",
    "    vae_trainer.load(vae_filename, vae_dirname)\n",
    "    print('Loaded VAE from:' + os.path.join(vae_dirname, vae_filename))"
   ]
  },
  {
   "cell_type": "code",
   "execution_count": 23,
   "id": "ad03fd65-440d-4b74-9d79-e2f8ec816731",
   "metadata": {},
   "outputs": [
    {
     "name": "stdout",
     "output_type": "stream",
     "text": [
      "Dataset size:999999\n"
     ]
    }
   ],
   "source": [
    "replay_buffer = utils.ReplayBuffer(state_dim, action_dim)\n",
    "replay_buffer.load(dataset)\n",
    "\n",
    "policy = None\n",
    "if args.algo_name == 'Latent':\n",
    "    policy = algos.Latent(vae_trainer.vae, state_dim, action_dim, latent_dim, max_action,**vars(args))\n",
    "elif args.algo_name == 'LatentPerturbation':\n",
    "    policy = algos.LatentPerturbation(vae_trainer.vae, state_dim, action_dim, latent_dim, max_action,**vars(args))"
   ]
  },
  {
   "cell_type": "code",
   "execution_count": 24,
   "id": "e66c4f72-d2ac-435d-8eb0-989e44ebc806",
   "metadata": {},
   "outputs": [],
   "source": [
    "# Runs policy for X episodes and returns average reward\n",
    "# A fixed seed is used for the eval environment\n",
    "def eval_policy(policy, env, eval_episodes=30, random=False):\n",
    "    avg_reward = 0.\n",
    "    for _ in range(eval_episodes):\n",
    "        state, done = env.reset(), False\n",
    "        while not done:\n",
    "            if random:\n",
    "                action = env.action_space.sample()\n",
    "            else:\n",
    "                action = policy.select_action(np.array(state))\n",
    "            state, reward, done, _ = env.step(action)\n",
    "            avg_reward += reward\n",
    "\n",
    "    avg_reward /= eval_episodes\n",
    "\n",
    "    info = {'AverageReturn': avg_reward}\n",
    "    print (\"---------------------------------------\")\n",
    "    print(f\"Evaluation over {eval_episodes} episodes: {avg_reward:.3f}\")\n",
    "    print (\"---------------------------------------\")\n",
    "    return info"
   ]
  },
  {
   "cell_type": "code",
   "execution_count": 25,
   "id": "6438d764-3068-469d-ac4e-53ea103fee71",
   "metadata": {
    "scrolled": true,
    "tags": []
   },
   "outputs": [
    {
     "name": "stdout",
     "output_type": "stream",
     "text": [
      "Training iterations: 100.0\n",
      "---------------------------------------\n",
      "Evaluation over 30 episodes: 181.155\n",
      "---------------------------------------\n",
      "Training iterations: 200.0\n",
      "---------------------------------------\n",
      "Evaluation over 30 episodes: 166.435\n",
      "---------------------------------------\n",
      "Training iterations: 300.0\n",
      "---------------------------------------\n",
      "Evaluation over 30 episodes: 154.533\n",
      "---------------------------------------\n",
      "Training iterations: 400.0\n",
      "---------------------------------------\n",
      "Evaluation over 30 episodes: 179.019\n",
      "---------------------------------------\n",
      "Training iterations: 500.0\n",
      "---------------------------------------\n",
      "Evaluation over 30 episodes: 164.933\n",
      "---------------------------------------\n",
      "Training iterations: 600.0\n",
      "---------------------------------------\n",
      "Evaluation over 30 episodes: 166.121\n",
      "---------------------------------------\n",
      "Training iterations: 700.0\n",
      "---------------------------------------\n",
      "Evaluation over 30 episodes: 149.571\n",
      "---------------------------------------\n",
      "Training iterations: 800.0\n",
      "---------------------------------------\n",
      "Evaluation over 30 episodes: 130.060\n",
      "---------------------------------------\n",
      "Training iterations: 900.0\n",
      "---------------------------------------\n",
      "Evaluation over 30 episodes: 150.318\n",
      "---------------------------------------\n",
      "Training iterations: 1000.0\n",
      "---------------------------------------\n",
      "Evaluation over 30 episodes: 132.411\n",
      "---------------------------------------\n",
      "Training iterations: 1100.0\n",
      "---------------------------------------\n",
      "Evaluation over 30 episodes: 143.762\n",
      "---------------------------------------\n",
      "Training iterations: 1200.0\n",
      "---------------------------------------\n",
      "Evaluation over 30 episodes: 158.507\n",
      "---------------------------------------\n",
      "Training iterations: 1300.0\n",
      "---------------------------------------\n",
      "Evaluation over 30 episodes: 159.040\n",
      "---------------------------------------\n",
      "Training iterations: 1400.0\n",
      "---------------------------------------\n",
      "Evaluation over 30 episodes: 159.413\n",
      "---------------------------------------\n",
      "Training iterations: 1500.0\n",
      "---------------------------------------\n",
      "Evaluation over 30 episodes: 150.452\n",
      "---------------------------------------\n",
      "Training iterations: 1600.0\n",
      "---------------------------------------\n",
      "Evaluation over 30 episodes: 159.006\n",
      "---------------------------------------\n",
      "Training iterations: 1700.0\n",
      "---------------------------------------\n",
      "Evaluation over 30 episodes: 169.244\n",
      "---------------------------------------\n",
      "Training iterations: 1800.0\n",
      "---------------------------------------\n",
      "Evaluation over 30 episodes: 168.573\n",
      "---------------------------------------\n",
      "Training iterations: 1900.0\n",
      "---------------------------------------\n",
      "Evaluation over 30 episodes: 166.247\n",
      "---------------------------------------\n",
      "Training iterations: 2000.0\n",
      "---------------------------------------\n",
      "Evaluation over 30 episodes: 144.958\n",
      "---------------------------------------\n",
      "Training iterations: 2100.0\n",
      "---------------------------------------\n",
      "Evaluation over 30 episodes: 143.494\n",
      "---------------------------------------\n",
      "Training iterations: 2200.0\n",
      "---------------------------------------\n",
      "Evaluation over 30 episodes: 139.507\n",
      "---------------------------------------\n",
      "Training iterations: 2300.0\n",
      "---------------------------------------\n",
      "Evaluation over 30 episodes: 150.829\n",
      "---------------------------------------\n",
      "Training iterations: 2400.0\n",
      "---------------------------------------\n",
      "Evaluation over 30 episodes: 152.763\n",
      "---------------------------------------\n",
      "Training iterations: 2500.0\n",
      "---------------------------------------\n",
      "Evaluation over 30 episodes: 144.366\n",
      "---------------------------------------\n",
      "Training iterations: 2600.0\n",
      "---------------------------------------\n",
      "Evaluation over 30 episodes: 155.033\n",
      "---------------------------------------\n",
      "Training iterations: 2700.0\n",
      "---------------------------------------\n",
      "Evaluation over 30 episodes: 154.823\n",
      "---------------------------------------\n",
      "Training iterations: 2800.0\n",
      "---------------------------------------\n",
      "Evaluation over 30 episodes: 151.432\n",
      "---------------------------------------\n",
      "Training iterations: 2900.0\n",
      "---------------------------------------\n",
      "Evaluation over 30 episodes: 141.126\n",
      "---------------------------------------\n",
      "Training iterations: 3000.0\n",
      "---------------------------------------\n",
      "Evaluation over 30 episodes: 154.018\n",
      "---------------------------------------\n",
      "Training iterations: 3100.0\n",
      "---------------------------------------\n",
      "Evaluation over 30 episodes: 158.663\n",
      "---------------------------------------\n",
      "Training iterations: 3200.0\n",
      "---------------------------------------\n",
      "Evaluation over 30 episodes: 168.865\n",
      "---------------------------------------\n",
      "Training iterations: 3300.0\n",
      "---------------------------------------\n",
      "Evaluation over 30 episodes: 155.497\n",
      "---------------------------------------\n",
      "Training iterations: 3400.0\n",
      "---------------------------------------\n",
      "Evaluation over 30 episodes: 170.010\n",
      "---------------------------------------\n",
      "Training iterations: 3500.0\n",
      "---------------------------------------\n",
      "Evaluation over 30 episodes: 130.719\n",
      "---------------------------------------\n",
      "Training iterations: 3600.0\n",
      "---------------------------------------\n",
      "Evaluation over 30 episodes: 162.951\n",
      "---------------------------------------\n",
      "Training iterations: 3700.0\n",
      "---------------------------------------\n",
      "Evaluation over 30 episodes: 156.674\n",
      "---------------------------------------\n",
      "Training iterations: 3800.0\n",
      "---------------------------------------\n",
      "Evaluation over 30 episodes: 139.632\n",
      "---------------------------------------\n",
      "Training iterations: 3900.0\n",
      "---------------------------------------\n",
      "Evaluation over 30 episodes: 148.450\n",
      "---------------------------------------\n",
      "Training iterations: 4000.0\n",
      "---------------------------------------\n",
      "Evaluation over 30 episodes: 156.926\n",
      "---------------------------------------\n",
      "Training iterations: 4100.0\n",
      "---------------------------------------\n",
      "Evaluation over 30 episodes: 172.403\n",
      "---------------------------------------\n",
      "Training iterations: 4200.0\n",
      "---------------------------------------\n",
      "Evaluation over 30 episodes: 169.155\n",
      "---------------------------------------\n",
      "Training iterations: 4300.0\n",
      "---------------------------------------\n",
      "Evaluation over 30 episodes: 148.792\n",
      "---------------------------------------\n",
      "Training iterations: 4400.0\n",
      "---------------------------------------\n",
      "Evaluation over 30 episodes: 158.354\n",
      "---------------------------------------\n",
      "Training iterations: 4500.0\n",
      "---------------------------------------\n",
      "Evaluation over 30 episodes: 144.913\n",
      "---------------------------------------\n",
      "Training iterations: 4600.0\n",
      "---------------------------------------\n",
      "Evaluation over 30 episodes: 144.196\n",
      "---------------------------------------\n",
      "Training iterations: 4700.0\n",
      "---------------------------------------\n",
      "Evaluation over 30 episodes: 132.994\n",
      "---------------------------------------\n",
      "Training iterations: 4800.0\n",
      "---------------------------------------\n",
      "Evaluation over 30 episodes: 127.992\n",
      "---------------------------------------\n",
      "Training iterations: 4900.0\n",
      "---------------------------------------\n",
      "Evaluation over 30 episodes: 173.164\n",
      "---------------------------------------\n",
      "Training iterations: 5000.0\n",
      "---------------------------------------\n",
      "Evaluation over 30 episodes: 167.469\n",
      "---------------------------------------\n"
     ]
    }
   ],
   "source": [
    "episode_num = 0\n",
    "done = True\n",
    "training_iters = 0\n",
    "evaluations = []\n",
    "best_perf = -np.inf\n",
    "best_policy = None\n",
    "\n",
    "while training_iters < args.max_timesteps:\n",
    "    # Train\n",
    "    pol_vals = policy.train(replay_buffer, iterations=int(args.eval_freq), batch_size=args.batch_size)\n",
    "    training_iters += args.eval_freq\n",
    "    print(\"Training iterations: \" + str(training_iters))\n",
    "    logger.record_tabular('Training Epochs', int(training_iters // int(args.eval_freq)))  \n",
    "    \n",
    "    # Save BEST Model\n",
    "    if training_iters % args.save_freq == 0 and args.save_model:\n",
    "        \n",
    "        # evaluate policy\n",
    "        info = eval_policy(policy, env)       \n",
    "        \n",
    "        if info['AverageReturn'] > best_perf:\n",
    "            best_perf = info['AverageReturn']\n",
    "            best_policy = deepcopy(policy)\n",
    "            \n",
    "            policy.save('model_' + str(training_iters), folder_name)\n",
    "        \n",
    "        evaluations.append(info['AverageReturn'])  \n",
    "    "
   ]
  },
  {
   "cell_type": "code",
   "execution_count": 26,
   "id": "9264ea7a-5fe3-47a7-9677-9f888e315120",
   "metadata": {},
   "outputs": [
    {
     "data": {
      "text/plain": [
       "Text(0.5, 0, 'training iter')"
      ]
     },
     "execution_count": 26,
     "metadata": {},
     "output_type": "execute_result"
    },
    {
     "data": {
      "image/png": "[encoded data removed]",
      "text/plain": [
       "<Figure size 432x288 with 1 Axes>"
      ]
     },
     "metadata": {
      "needs_background": "light"
     },
     "output_type": "display_data"
    }
   ],
   "source": [
    "x = np.arange(0, training_iters, args.save_freq)\n",
    "y = evaluations\n",
    "plt.plot(x, y)\n",
    "plt.ylabel('avg.reward (30 episodes eval)')\n",
    "plt.xlabel('training iter')"
   ]
  },
  {
   "cell_type": "markdown",
   "id": "9f7e9bec-7651-436c-8d5d-01e31b0ea1fa",
   "metadata": {
    "tags": []
   },
   "source": [
    "## Evaluate"
   ]
  },
  {
   "cell_type": "code",
   "execution_count": 50,
   "id": "59e7dbcf-f5e1-44ad-91b1-dea8785b3439",
   "metadata": {},
   "outputs": [],
   "source": [
    "import os\n",
    "import imageio\n",
    "import numpy as np\n",
    "from PIL import Image\n",
    "import PIL.ImageDraw as ImageDraw\n",
    "import matplotlib.pyplot as plt    \n",
    "\n",
    "def _label_with_episode_number(frame, episode_num):\n",
    "    im = Image.fromarray(frame)\n",
    "\n",
    "    drawer = ImageDraw.Draw(im)\n",
    "\n",
    "    if np.mean(im) < 128:\n",
    "        text_color = (255,255,255)\n",
    "    else:\n",
    "        text_color = (0,0,0)\n",
    "    drawer.text((im.size[0]/20,im.size[1]/18), f'Episode: {episode_num+1}', fill=text_color)\n",
    "\n",
    "    return im\n",
    "\n",
    "\n",
    "def save_agent_gif(env, random=False, fname='agent.gif', n_iter = 5):\n",
    "    frames = []\n",
    "    for i in range(n_iter):\n",
    "        state = env.reset()        \n",
    "        for t in range(5000):\n",
    "            \n",
    "            if random:\n",
    "                action = env.action_space.sample()\n",
    "            else:\n",
    "                action = best_policy.select_action(state)\n",
    "\n",
    "            frame = env.render(mode='rgb_array')\n",
    "            frames.append(_label_with_episode_number(frame, episode_num=i))\n",
    "\n",
    "            state, _, done, _ = env.step(action)\n",
    "            if done:\n",
    "                break\n",
    "\n",
    "    env.close()\n",
    "    imageio.mimwrite(os.path.join(folder_name, fname), frames, fps=30)"
   ]
  },
  {
   "cell_type": "markdown",
   "id": "ccfe75f6-956d-4cc5-9ae0-04af2c9af69d",
   "metadata": {},
   "source": [
    "## Results Dictionary"
   ]
  },
  {
   "cell_type": "code",
   "execution_count": 78,
   "id": "c4ecc7b7-c20f-48f5-87fd-6991a3a87fe7",
   "metadata": {},
   "outputs": [],
   "source": [
    "results_ = dict(\n",
    "    env_type = [],\n",
    "    wind_power = [],\n",
    "    turb_power = [],\n",
    "    agent_type = [],\n",
    "    avg_reward = []\n",
    ")"
   ]
  },
  {
   "cell_type": "markdown",
   "id": "10fa54ab-81f5-4038-a244-7bf489376c0f",
   "metadata": {},
   "source": [
    "## Define Env - same parameters used to generate data"
   ]
  },
  {
   "cell_type": "markdown",
   "id": "b8366ebd-cc29-45bf-b119-e9b6164b17cd",
   "metadata": {},
   "source": [
    "### Random Agent"
   ]
  },
  {
   "cell_type": "code",
   "execution_count": 79,
   "id": "660765df-d055-43de-9d7b-152a36fc3571",
   "metadata": {},
   "outputs": [
    {
     "name": "stdout",
     "output_type": "stream",
     "text": [
      "---------------------------------------\n",
      "Evaluation over 30 episodes: -278.561\n",
      "---------------------------------------\n"
     ]
    }
   ],
   "source": [
    "#Eval\n",
    "env.reset()\n",
    "info = eval_policy(best_policy, env, eval_episodes=30, random=True)\n",
    "\n",
    "results_['env_type'] += ['baseline']\n",
    "results_['agent_type'] += ['random']\n",
    "results_['wind_power'] += [5]\n",
    "results_['turb_power'] += [1]\n",
    "results_['avg_reward'] += [info['AverageReturn']]"
   ]
  },
  {
   "cell_type": "code",
   "execution_count": 80,
   "id": "50ab5583-778d-42fa-b102-b6202ae4bea4",
   "metadata": {},
   "outputs": [],
   "source": [
    "# env.reset()\n",
    "# save_agent_gif(env, random=True, fname='random_baseline.gif', n_iter=10)\n",
    "\n",
    "env.reset()\n",
    "save_agent_gif(env, random=True, fname='../../report_files/random_baseline.gif', n_iter=10)"
   ]
  },
  {
   "cell_type": "markdown",
   "id": "b69a89b1-3143-4c7a-9a6c-f1b96816fc58",
   "metadata": {},
   "source": [
    "### Trained agent"
   ]
  },
  {
   "cell_type": "code",
   "execution_count": null,
   "id": "fab5f662-ec96-431f-866d-ba9dc167eb42",
   "metadata": {
    "scrolled": true,
    "tags": []
   },
   "outputs": [],
   "source": [
    "#Eval\n",
    "env.reset()\n",
    "info = eval_policy(best_policy, env, eval_episodes=30)\n",
    "\n",
    "results_['env_type'] += ['baseline']\n",
    "results_['agent_type'] += ['plas']\n",
    "results_['wind_power'] += [5]\n",
    "results_['turb_power'] += [1]\n",
    "results_['avg_reward'] += [info['AverageReturn']]"
   ]
  },
  {
   "cell_type": "code",
   "execution_count": null,
   "id": "dea40e82-f31c-432d-a9d2-5762a1167f91",
   "metadata": {},
   "outputs": [],
   "source": [
    "# env.reset()\n",
    "# save_agent_gif(env, fname='plas_baseline.gif', n_iter=10)\n",
    "\n",
    "env.reset()\n",
    "save_agent_gif(env, fname='../../report_files/plas_baseline.gif', n_iter=10)"
   ]
  },
  {
   "cell_type": "markdown",
   "id": "cc922206-af1b-43b0-a398-a3d0e7c8163b",
   "metadata": {},
   "source": [
    "## Define Env - Tweaked parameters"
   ]
  },
  {
   "cell_type": "code",
   "execution_count": null,
   "id": "433d3e2d-ab07-4f27-9fed-2bc504988941",
   "metadata": {},
   "outputs": [],
   "source": [
    "wind_powers = np.arange(0, 21, 5)\n",
    "turb_powers = np.arange(0, 2.5, 0.5)\n",
    "\n",
    "for w in wind_powers:\n",
    "    for t in turb_powers:\n",
    "        if w != 5 and t != 1: # this is the baseline\n",
    "            w = np.around(w, 3)\n",
    "            t = np.around(t, 3)\n",
    "            \n",
    "            print(f\"w: {w} | t: {t}\")\n",
    "            print(\"================================\")\n",
    "            env = gym.make(\n",
    "                \"LunarLander-v2\",\n",
    "                continuous = True,\n",
    "                gravity = -10.0,\n",
    "                enable_wind = True,\n",
    "                wind_power = w, # between 0 and 20\n",
    "                turbulence_power = t, # between 0 and 2\n",
    "            )\n",
    "\n",
    "            # RANDOM\n",
    "            env.reset()\n",
    "            info = eval_policy(best_policy, env, eval_episodes=30, random=True)\n",
    "\n",
    "            results_['env_type'] += ['out_of_dist']\n",
    "            results_['agent_type'] += ['random']\n",
    "            results_['wind_power'] += [w]\n",
    "            results_['turb_power'] += [t]\n",
    "            results_['avg_reward'] += [info['AverageReturn']]  \n",
    "            \n",
    "            env.reset()\n",
    "            save_agent_gif(env, random=True, fname=f'../../report_files/random_w={w}_t={t}.gif', n_iter=10)  \n",
    "            \n",
    "            # PLAS\n",
    "            env.reset()\n",
    "            info = eval_policy(best_policy, env, eval_episodes=30, random=False)\n",
    "\n",
    "            results_['env_type'] += ['out_of_dist']\n",
    "            results_['agent_type'] += ['plas']\n",
    "            results_['wind_power'] += [w]\n",
    "            results_['turb_power'] += [t]\n",
    "            results_['avg_reward'] += [info['AverageReturn']]  \n",
    "            \n",
    "            env.reset()\n",
    "            save_agent_gif(env, random=False, fname=f'../../report_files/plas_w={w}_t={t}.gif', n_iter=10)              "
   ]
  },
  {
   "cell_type": "markdown",
   "id": "f88109d1-ec80-49d0-8fa9-8acc2d72bd6e",
   "metadata": {},
   "source": [
    "## Save results"
   ]
  },
  {
   "cell_type": "code",
   "execution_count": null,
   "id": "f56b874a-5923-409e-9705-4a76dd3fd54c",
   "metadata": {},
   "outputs": [],
   "source": [
    "df_results = pd.DataFrame(results_)\n",
    "df_results"
   ]
  },
  {
   "cell_type": "code",
   "execution_count": null,
   "id": "dc95e80b-e5f9-48f4-880a-138a8375e670",
   "metadata": {},
   "outputs": [],
   "source": [
    "df_results.to_csv(\"report_files/results.csv\", index=False)"
   ]
  },
  {
   "cell_type": "code",
   "execution_count": null,
   "id": "d3b5d301-6844-4dca-bf0f-83862fcdcba2",
   "metadata": {},
   "outputs": [],
   "source": []
  }
 ],
 "metadata": {
  "kernelspec": {
   "display_name": "Python 3",
   "language": "python",
   "name": "python3"
  },
  "language_info": {
   "codemirror_mode": {
    "name": "ipython",
    "version": 3
   },
   "file_extension": ".py",
   "mimetype": "text/x-python",
   "name": "python",
   "nbconvert_exporter": "python",
   "pygments_lexer": "ipython3",
   "version": "3.7.4"
  }
 },
 "nbformat": 4,
 "nbformat_minor": 5
}
