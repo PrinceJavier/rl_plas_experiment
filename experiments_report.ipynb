{
 "cells": [
  {
   "cell_type": "markdown",
   "id": "270bd256-81ce-4981-b4ad-d00f4c4cee15",
   "metadata": {},
   "source": [
    "# Experiments Report"
   ]
  },
  {
   "cell_type": "markdown",
   "id": "dd01dd5d-7d0c-4d22-9ea1-295629b143a3",
   "metadata": {},
   "source": [
    "## Packages"
   ]
  },
  {
   "cell_type": "code",
   "execution_count": 1,
   "id": "c4a1a9ff-2142-429a-b5a2-51ea146d6c78",
   "metadata": {},
   "outputs": [],
   "source": [
    "import pandas as pd\n",
    "import numpy as np\n",
    "import matplotlib.pyplot as plt\n",
    "import seaborn as sns\n",
    "import glob\n",
    "\n",
    "from IPython.display import IFrame\n",
    "from IPython.core.display import display\n",
    "from IPython.core.display import HTML"
   ]
  },
  {
   "cell_type": "markdown",
   "id": "43b85a9e-4f1e-4afd-84d6-bbd7b6c88987",
   "metadata": {},
   "source": [
    "## References\n",
    "**Experiments code**\n",
    "* https://github.com/PrinceJavier/rl_plas_experiment\n",
    "\n",
    "**Reference paper and code**\n",
    "* PLAS: Latent Action Space for Offline Reinforcement Learning (2020)\n",
    "* https://sites.google.com/view/latent-policy\n",
    "* https://github.com/Wenxuan-Zhou/PLAS\n",
    "\n",
    "**RL Environment**\n",
    "* https://www.gymlibrary.dev/environments/box2d/lunar_lander/"
   ]
  },
  {
   "cell_type": "markdown",
   "id": "c9e80f01-cd07-41dc-ae7d-82665206095a",
   "metadata": {},
   "source": [
    "## September 6, 2022 Update\n",
    "### Data collection process\n",
    "* Needed to generate own data due to lack of ready-to-use offline data for `LunarLander-v2`\n",
    "* How was data generated?\n",
    "    * Defined a `LunarLander-v2` environment:\n",
    "        ```python\n",
    "        env = gym.make(\n",
    "            \"LunarLander-v2\",\n",
    "            continuous = True,\n",
    "            gravity = -10.0,\n",
    "            enable_wind = True,\n",
    "            wind_power = 5, # max linear wind. between 0 and 20\n",
    "            turbulence_power = 1, # max rotational wind. between 0 and 2\n",
    "        )\n",
    "        ```\n",
    "    * Trained a PPO RL model:\n",
    "        ```python\n",
    "        from stable_baselines3 import PPO\n",
    "        model = PPO(\"MlpPolicy\", env, verbose=1, device='cpu')\n",
    "        model.learn(total_timesteps=100000)\n",
    "        ```\n",
    "    * Generated 1,000,000 datapoints using the trained PPO model\n",
    "        * `observations` - array of observations per time step\n",
    "        * `actions` - array of selected actions per time step\n",
    "        * `next_observations` - array of new observations after selection action per time step\n",
    "        * `rewards` - array of reward per time step\n",
    "        * `terminals` - array of `True` or `False` values indicating if each round is over\n",
    "\n",
    "### Experiments\n",
    "* Trained PLAS model on the collected offline data\n",
    "* For evaluation, experimented with different values of `wind_power` and `turbulence_power` - out of distribution\n",
    "```python\n",
    "wind_powers = np.arange(0, 21, 5)\n",
    "turb_powers = np.arange(0, 2.5, 0.5)\n",
    "```\n",
    "\n",
    "### Takeaways\n",
    "* The PLAS model is able to maintain positive reward across the tested environments\n",
    "* It is more sensitive to `wind_power` (linear wind) than to `turbulence_power` (rotational wind)\n",
    "* PLAS model has highest performance for the baseline environment (`wind_power=5` and `turbulence_power=1`) as expected\n",
    "* In terms of changes in performance, the results match our expectation: \"the farther away from the baseline, the lower the score.\" but the changes are not linear, but rather fluctuates (goes down, then goes up) as the environment parameters move farther away from the baseline\n",
    "    \n",
    "### Notebooks\n",
    "* `data_gen_lunar_lander.ipynb` - code for the data collection process\n",
    "* `experiments_lunar_lander.ipynb` - code for experiments"
   ]
  },
  {
   "cell_type": "markdown",
   "id": "3158bc67-cc33-4ac0-9587-9b410caaefde",
   "metadata": {},
   "source": [
    "### Training Performance\n",
    "* Average reward (30 iterations each evaluation) fluctuates widely over training iterations\n",
    "* Stagnant over training iterations\n",
    "* **Is there a way to make this more stable?**\n",
    "\n",
    "<img src = \"report_files/lunar_lander_plas_training_perf.png\" width=\"400\" />"
   ]
  },
  {
   "cell_type": "markdown",
   "id": "5e7748da-4dc0-48e3-859f-0677ec7c8134",
   "metadata": {},
   "source": [
    "### Results\n",
    "* Random model is more sensitive to changes in `turbulence_power` (rotational wind strength) than to `wind_power` (linear wind strength)\n",
    "* PLAS model is more sensitive to changes in `wind_power` than to `turbulence_power`. Increasing `wind_power` causes the reward to dramatically go down.\n",
    "* PLAS model has highest performance for the baseline environment (`wind_power=5` and `turbulence_power=1`) as expected\n",
    "* In terms of changes in performance, the results match our expectation: \"the farther away from the baseline, the lower the score.\" but the changes are not linear, but rather fluctuates (goes down, then goes up) as the environment parameters move farther away from the baseline\n",
    "    * If we fix `wind_power=0`\n",
    "        * At `turbulence_power=1`, there is a reduction in reward (177 -> 143)\n",
    "        * Changing further `turbulence_power=0.5 and 1.5`, there is an increase in reward (143 -> ~160)   \n",
    "        * Making `turbulence_power=0 or 2` improves performance to 176\n",
    "    * If we fix `wind_power=5`\n",
    "        * If we reduce `turbulence_power=0.5`, there is a reduction in reward (177 -> 130)\n",
    "        * If we further reduce to `turbulence_power=0`, we find an increase in reward (130 -> 160)\n",
    "        * If we increase `turbulence_power=1.5`, there is a reduction in reward (177 -> 147)    \n",
    "* The worst performance is at `turbulence_power=1` and `wind_power=20`. Having higher or lower `turbulence_power` than the baseline in this case actually led to better performance"
   ]
  },
  {
   "cell_type": "code",
   "execution_count": 2,
   "id": "770b591a-a081-4771-b7f5-7654b9373735",
   "metadata": {
    "scrolled": true,
    "tags": []
   },
   "outputs": [
    {
     "data": {
      "text/html": [
       "<div>\n",
       "<style scoped>\n",
       "    .dataframe tbody tr th:only-of-type {\n",
       "        vertical-align: middle;\n",
       "    }\n",
       "\n",
       "    .dataframe tbody tr th {\n",
       "        vertical-align: top;\n",
       "    }\n",
       "\n",
       "    .dataframe thead th {\n",
       "        text-align: right;\n",
       "    }\n",
       "</style>\n",
       "<table border=\"1\" class=\"dataframe\">\n",
       "  <thead>\n",
       "    <tr style=\"text-align: right;\">\n",
       "      <th></th>\n",
       "      <th>env_type</th>\n",
       "      <th>wind_power</th>\n",
       "      <th>turb_power</th>\n",
       "      <th>agent_type</th>\n",
       "      <th>avg_reward</th>\n",
       "    </tr>\n",
       "  </thead>\n",
       "  <tbody>\n",
       "    <tr>\n",
       "      <th>0</th>\n",
       "      <td>baseline</td>\n",
       "      <td>5</td>\n",
       "      <td>1.0</td>\n",
       "      <td>random</td>\n",
       "      <td>-256.985877</td>\n",
       "    </tr>\n",
       "    <tr>\n",
       "      <th>1</th>\n",
       "      <td>baseline</td>\n",
       "      <td>5</td>\n",
       "      <td>1.0</td>\n",
       "      <td>plas</td>\n",
       "      <td>177.977649</td>\n",
       "    </tr>\n",
       "    <tr>\n",
       "      <th>2</th>\n",
       "      <td>out_of_dist</td>\n",
       "      <td>0</td>\n",
       "      <td>0.0</td>\n",
       "      <td>random</td>\n",
       "      <td>-234.220521</td>\n",
       "    </tr>\n",
       "    <tr>\n",
       "      <th>3</th>\n",
       "      <td>out_of_dist</td>\n",
       "      <td>0</td>\n",
       "      <td>0.0</td>\n",
       "      <td>plas</td>\n",
       "      <td>176.361771</td>\n",
       "    </tr>\n",
       "    <tr>\n",
       "      <th>4</th>\n",
       "      <td>out_of_dist</td>\n",
       "      <td>0</td>\n",
       "      <td>0.5</td>\n",
       "      <td>random</td>\n",
       "      <td>-170.462344</td>\n",
       "    </tr>\n",
       "    <tr>\n",
       "      <th>5</th>\n",
       "      <td>out_of_dist</td>\n",
       "      <td>0</td>\n",
       "      <td>0.5</td>\n",
       "      <td>plas</td>\n",
       "      <td>168.289977</td>\n",
       "    </tr>\n",
       "    <tr>\n",
       "      <th>6</th>\n",
       "      <td>out_of_dist</td>\n",
       "      <td>0</td>\n",
       "      <td>1.0</td>\n",
       "      <td>random</td>\n",
       "      <td>-306.525806</td>\n",
       "    </tr>\n",
       "    <tr>\n",
       "      <th>7</th>\n",
       "      <td>out_of_dist</td>\n",
       "      <td>0</td>\n",
       "      <td>1.0</td>\n",
       "      <td>plas</td>\n",
       "      <td>143.416762</td>\n",
       "    </tr>\n",
       "    <tr>\n",
       "      <th>8</th>\n",
       "      <td>out_of_dist</td>\n",
       "      <td>0</td>\n",
       "      <td>1.5</td>\n",
       "      <td>random</td>\n",
       "      <td>-295.215147</td>\n",
       "    </tr>\n",
       "    <tr>\n",
       "      <th>9</th>\n",
       "      <td>out_of_dist</td>\n",
       "      <td>0</td>\n",
       "      <td>1.5</td>\n",
       "      <td>plas</td>\n",
       "      <td>160.930513</td>\n",
       "    </tr>\n",
       "    <tr>\n",
       "      <th>10</th>\n",
       "      <td>out_of_dist</td>\n",
       "      <td>0</td>\n",
       "      <td>2.0</td>\n",
       "      <td>random</td>\n",
       "      <td>-440.581525</td>\n",
       "    </tr>\n",
       "    <tr>\n",
       "      <th>11</th>\n",
       "      <td>out_of_dist</td>\n",
       "      <td>0</td>\n",
       "      <td>2.0</td>\n",
       "      <td>plas</td>\n",
       "      <td>176.931615</td>\n",
       "    </tr>\n",
       "    <tr>\n",
       "      <th>12</th>\n",
       "      <td>out_of_dist</td>\n",
       "      <td>5</td>\n",
       "      <td>0.0</td>\n",
       "      <td>random</td>\n",
       "      <td>-240.600613</td>\n",
       "    </tr>\n",
       "    <tr>\n",
       "      <th>13</th>\n",
       "      <td>out_of_dist</td>\n",
       "      <td>5</td>\n",
       "      <td>0.0</td>\n",
       "      <td>plas</td>\n",
       "      <td>160.568874</td>\n",
       "    </tr>\n",
       "    <tr>\n",
       "      <th>14</th>\n",
       "      <td>out_of_dist</td>\n",
       "      <td>5</td>\n",
       "      <td>0.5</td>\n",
       "      <td>random</td>\n",
       "      <td>-226.469539</td>\n",
       "    </tr>\n",
       "    <tr>\n",
       "      <th>15</th>\n",
       "      <td>out_of_dist</td>\n",
       "      <td>5</td>\n",
       "      <td>0.5</td>\n",
       "      <td>plas</td>\n",
       "      <td>130.534669</td>\n",
       "    </tr>\n",
       "    <tr>\n",
       "      <th>16</th>\n",
       "      <td>out_of_dist</td>\n",
       "      <td>5</td>\n",
       "      <td>1.5</td>\n",
       "      <td>random</td>\n",
       "      <td>-321.909151</td>\n",
       "    </tr>\n",
       "    <tr>\n",
       "      <th>17</th>\n",
       "      <td>out_of_dist</td>\n",
       "      <td>5</td>\n",
       "      <td>1.5</td>\n",
       "      <td>plas</td>\n",
       "      <td>147.652144</td>\n",
       "    </tr>\n",
       "    <tr>\n",
       "      <th>18</th>\n",
       "      <td>out_of_dist</td>\n",
       "      <td>5</td>\n",
       "      <td>2.0</td>\n",
       "      <td>random</td>\n",
       "      <td>-365.804832</td>\n",
       "    </tr>\n",
       "    <tr>\n",
       "      <th>19</th>\n",
       "      <td>out_of_dist</td>\n",
       "      <td>5</td>\n",
       "      <td>2.0</td>\n",
       "      <td>plas</td>\n",
       "      <td>148.764546</td>\n",
       "    </tr>\n",
       "    <tr>\n",
       "      <th>20</th>\n",
       "      <td>out_of_dist</td>\n",
       "      <td>10</td>\n",
       "      <td>0.0</td>\n",
       "      <td>random</td>\n",
       "      <td>-245.521634</td>\n",
       "    </tr>\n",
       "    <tr>\n",
       "      <th>21</th>\n",
       "      <td>out_of_dist</td>\n",
       "      <td>10</td>\n",
       "      <td>0.0</td>\n",
       "      <td>plas</td>\n",
       "      <td>144.856494</td>\n",
       "    </tr>\n",
       "    <tr>\n",
       "      <th>22</th>\n",
       "      <td>out_of_dist</td>\n",
       "      <td>10</td>\n",
       "      <td>0.5</td>\n",
       "      <td>random</td>\n",
       "      <td>-231.546981</td>\n",
       "    </tr>\n",
       "    <tr>\n",
       "      <th>23</th>\n",
       "      <td>out_of_dist</td>\n",
       "      <td>10</td>\n",
       "      <td>0.5</td>\n",
       "      <td>plas</td>\n",
       "      <td>112.823215</td>\n",
       "    </tr>\n",
       "    <tr>\n",
       "      <th>24</th>\n",
       "      <td>out_of_dist</td>\n",
       "      <td>10</td>\n",
       "      <td>1.0</td>\n",
       "      <td>random</td>\n",
       "      <td>-247.601448</td>\n",
       "    </tr>\n",
       "    <tr>\n",
       "      <th>25</th>\n",
       "      <td>out_of_dist</td>\n",
       "      <td>10</td>\n",
       "      <td>1.0</td>\n",
       "      <td>plas</td>\n",
       "      <td>161.003831</td>\n",
       "    </tr>\n",
       "    <tr>\n",
       "      <th>26</th>\n",
       "      <td>out_of_dist</td>\n",
       "      <td>10</td>\n",
       "      <td>1.5</td>\n",
       "      <td>random</td>\n",
       "      <td>-344.018175</td>\n",
       "    </tr>\n",
       "    <tr>\n",
       "      <th>27</th>\n",
       "      <td>out_of_dist</td>\n",
       "      <td>10</td>\n",
       "      <td>1.5</td>\n",
       "      <td>plas</td>\n",
       "      <td>158.515430</td>\n",
       "    </tr>\n",
       "    <tr>\n",
       "      <th>28</th>\n",
       "      <td>out_of_dist</td>\n",
       "      <td>10</td>\n",
       "      <td>2.0</td>\n",
       "      <td>random</td>\n",
       "      <td>-366.601451</td>\n",
       "    </tr>\n",
       "    <tr>\n",
       "      <th>29</th>\n",
       "      <td>out_of_dist</td>\n",
       "      <td>10</td>\n",
       "      <td>2.0</td>\n",
       "      <td>plas</td>\n",
       "      <td>134.149158</td>\n",
       "    </tr>\n",
       "    <tr>\n",
       "      <th>30</th>\n",
       "      <td>out_of_dist</td>\n",
       "      <td>15</td>\n",
       "      <td>0.0</td>\n",
       "      <td>random</td>\n",
       "      <td>-212.039000</td>\n",
       "    </tr>\n",
       "    <tr>\n",
       "      <th>31</th>\n",
       "      <td>out_of_dist</td>\n",
       "      <td>15</td>\n",
       "      <td>0.0</td>\n",
       "      <td>plas</td>\n",
       "      <td>79.044163</td>\n",
       "    </tr>\n",
       "    <tr>\n",
       "      <th>32</th>\n",
       "      <td>out_of_dist</td>\n",
       "      <td>15</td>\n",
       "      <td>0.5</td>\n",
       "      <td>random</td>\n",
       "      <td>-219.867545</td>\n",
       "    </tr>\n",
       "    <tr>\n",
       "      <th>33</th>\n",
       "      <td>out_of_dist</td>\n",
       "      <td>15</td>\n",
       "      <td>0.5</td>\n",
       "      <td>plas</td>\n",
       "      <td>136.297350</td>\n",
       "    </tr>\n",
       "    <tr>\n",
       "      <th>34</th>\n",
       "      <td>out_of_dist</td>\n",
       "      <td>15</td>\n",
       "      <td>1.0</td>\n",
       "      <td>random</td>\n",
       "      <td>-295.828466</td>\n",
       "    </tr>\n",
       "    <tr>\n",
       "      <th>35</th>\n",
       "      <td>out_of_dist</td>\n",
       "      <td>15</td>\n",
       "      <td>1.0</td>\n",
       "      <td>plas</td>\n",
       "      <td>125.216537</td>\n",
       "    </tr>\n",
       "    <tr>\n",
       "      <th>36</th>\n",
       "      <td>out_of_dist</td>\n",
       "      <td>15</td>\n",
       "      <td>1.5</td>\n",
       "      <td>random</td>\n",
       "      <td>-321.933788</td>\n",
       "    </tr>\n",
       "    <tr>\n",
       "      <th>37</th>\n",
       "      <td>out_of_dist</td>\n",
       "      <td>15</td>\n",
       "      <td>1.5</td>\n",
       "      <td>plas</td>\n",
       "      <td>136.076424</td>\n",
       "    </tr>\n",
       "    <tr>\n",
       "      <th>38</th>\n",
       "      <td>out_of_dist</td>\n",
       "      <td>15</td>\n",
       "      <td>2.0</td>\n",
       "      <td>random</td>\n",
       "      <td>-385.424719</td>\n",
       "    </tr>\n",
       "    <tr>\n",
       "      <th>39</th>\n",
       "      <td>out_of_dist</td>\n",
       "      <td>15</td>\n",
       "      <td>2.0</td>\n",
       "      <td>plas</td>\n",
       "      <td>107.960120</td>\n",
       "    </tr>\n",
       "    <tr>\n",
       "      <th>40</th>\n",
       "      <td>out_of_dist</td>\n",
       "      <td>20</td>\n",
       "      <td>0.0</td>\n",
       "      <td>random</td>\n",
       "      <td>-252.728740</td>\n",
       "    </tr>\n",
       "    <tr>\n",
       "      <th>41</th>\n",
       "      <td>out_of_dist</td>\n",
       "      <td>20</td>\n",
       "      <td>0.0</td>\n",
       "      <td>plas</td>\n",
       "      <td>72.417526</td>\n",
       "    </tr>\n",
       "    <tr>\n",
       "      <th>42</th>\n",
       "      <td>out_of_dist</td>\n",
       "      <td>20</td>\n",
       "      <td>0.5</td>\n",
       "      <td>random</td>\n",
       "      <td>-189.187583</td>\n",
       "    </tr>\n",
       "    <tr>\n",
       "      <th>43</th>\n",
       "      <td>out_of_dist</td>\n",
       "      <td>20</td>\n",
       "      <td>0.5</td>\n",
       "      <td>plas</td>\n",
       "      <td>94.437074</td>\n",
       "    </tr>\n",
       "    <tr>\n",
       "      <th>44</th>\n",
       "      <td>out_of_dist</td>\n",
       "      <td>20</td>\n",
       "      <td>1.0</td>\n",
       "      <td>random</td>\n",
       "      <td>-307.783511</td>\n",
       "    </tr>\n",
       "    <tr>\n",
       "      <th>45</th>\n",
       "      <td>out_of_dist</td>\n",
       "      <td>20</td>\n",
       "      <td>1.0</td>\n",
       "      <td>plas</td>\n",
       "      <td>43.797232</td>\n",
       "    </tr>\n",
       "    <tr>\n",
       "      <th>46</th>\n",
       "      <td>out_of_dist</td>\n",
       "      <td>20</td>\n",
       "      <td>1.5</td>\n",
       "      <td>random</td>\n",
       "      <td>-327.856638</td>\n",
       "    </tr>\n",
       "    <tr>\n",
       "      <th>47</th>\n",
       "      <td>out_of_dist</td>\n",
       "      <td>20</td>\n",
       "      <td>1.5</td>\n",
       "      <td>plas</td>\n",
       "      <td>93.637645</td>\n",
       "    </tr>\n",
       "    <tr>\n",
       "      <th>48</th>\n",
       "      <td>out_of_dist</td>\n",
       "      <td>20</td>\n",
       "      <td>2.0</td>\n",
       "      <td>random</td>\n",
       "      <td>-394.931889</td>\n",
       "    </tr>\n",
       "    <tr>\n",
       "      <th>49</th>\n",
       "      <td>out_of_dist</td>\n",
       "      <td>20</td>\n",
       "      <td>2.0</td>\n",
       "      <td>plas</td>\n",
       "      <td>65.568765</td>\n",
       "    </tr>\n",
       "  </tbody>\n",
       "</table>\n",
       "</div>"
      ],
      "text/plain": [
       "       env_type  wind_power  turb_power agent_type  avg_reward\n",
       "0      baseline           5         1.0     random -256.985877\n",
       "1      baseline           5         1.0       plas  177.977649\n",
       "2   out_of_dist           0         0.0     random -234.220521\n",
       "3   out_of_dist           0         0.0       plas  176.361771\n",
       "4   out_of_dist           0         0.5     random -170.462344\n",
       "5   out_of_dist           0         0.5       plas  168.289977\n",
       "6   out_of_dist           0         1.0     random -306.525806\n",
       "7   out_of_dist           0         1.0       plas  143.416762\n",
       "8   out_of_dist           0         1.5     random -295.215147\n",
       "9   out_of_dist           0         1.5       plas  160.930513\n",
       "10  out_of_dist           0         2.0     random -440.581525\n",
       "11  out_of_dist           0         2.0       plas  176.931615\n",
       "12  out_of_dist           5         0.0     random -240.600613\n",
       "13  out_of_dist           5         0.0       plas  160.568874\n",
       "14  out_of_dist           5         0.5     random -226.469539\n",
       "15  out_of_dist           5         0.5       plas  130.534669\n",
       "16  out_of_dist           5         1.5     random -321.909151\n",
       "17  out_of_dist           5         1.5       plas  147.652144\n",
       "18  out_of_dist           5         2.0     random -365.804832\n",
       "19  out_of_dist           5         2.0       plas  148.764546\n",
       "20  out_of_dist          10         0.0     random -245.521634\n",
       "21  out_of_dist          10         0.0       plas  144.856494\n",
       "22  out_of_dist          10         0.5     random -231.546981\n",
       "23  out_of_dist          10         0.5       plas  112.823215\n",
       "24  out_of_dist          10         1.0     random -247.601448\n",
       "25  out_of_dist          10         1.0       plas  161.003831\n",
       "26  out_of_dist          10         1.5     random -344.018175\n",
       "27  out_of_dist          10         1.5       plas  158.515430\n",
       "28  out_of_dist          10         2.0     random -366.601451\n",
       "29  out_of_dist          10         2.0       plas  134.149158\n",
       "30  out_of_dist          15         0.0     random -212.039000\n",
       "31  out_of_dist          15         0.0       plas   79.044163\n",
       "32  out_of_dist          15         0.5     random -219.867545\n",
       "33  out_of_dist          15         0.5       plas  136.297350\n",
       "34  out_of_dist          15         1.0     random -295.828466\n",
       "35  out_of_dist          15         1.0       plas  125.216537\n",
       "36  out_of_dist          15         1.5     random -321.933788\n",
       "37  out_of_dist          15         1.5       plas  136.076424\n",
       "38  out_of_dist          15         2.0     random -385.424719\n",
       "39  out_of_dist          15         2.0       plas  107.960120\n",
       "40  out_of_dist          20         0.0     random -252.728740\n",
       "41  out_of_dist          20         0.0       plas   72.417526\n",
       "42  out_of_dist          20         0.5     random -189.187583\n",
       "43  out_of_dist          20         0.5       plas   94.437074\n",
       "44  out_of_dist          20         1.0     random -307.783511\n",
       "45  out_of_dist          20         1.0       plas   43.797232\n",
       "46  out_of_dist          20         1.5     random -327.856638\n",
       "47  out_of_dist          20         1.5       plas   93.637645\n",
       "48  out_of_dist          20         2.0     random -394.931889\n",
       "49  out_of_dist          20         2.0       plas   65.568765"
      ]
     },
     "execution_count": 2,
     "metadata": {},
     "output_type": "execute_result"
    }
   ],
   "source": [
    "df_results = pd.read_csv(\"report_files/results.csv\")\n",
    "df_results"
   ]
  },
  {
   "cell_type": "code",
   "execution_count": 3,
   "id": "0ff34110-bd82-4774-95fc-fcc431fb242a",
   "metadata": {},
   "outputs": [
    {
     "data": {
      "image/png": "[encoded data removed]",
      "text/plain": [
       "<Figure size 1008x360 with 4 Axes>"
      ]
     },
     "metadata": {
      "needs_background": "light"
     },
     "output_type": "display_data"
    }
   ],
   "source": [
    "# heat map of turb power vs wind power\n",
    "# Randp,\n",
    "df_ = df_results[df_results.agent_type == 'random']\n",
    "df_pivot_rand = pd.pivot_table(df_, values='avg_reward', index='wind_power', columns='turb_power').astype(int)\n",
    "\n",
    "f, axs = plt.subplots(1, 2, figsize=(14, 5))\n",
    "sns.heatmap(df_pivot_rand, annot=True, ax=axs[0], cmap='Blues', fmt='g')\n",
    "axs[0].set_title(\"Random model\")\n",
    "axs[0].invert_yaxis()\n",
    "\n",
    "# PLAS\n",
    "df_ = df_results[df_results.agent_type == 'plas']\n",
    "df_pivot_rand = pd.pivot_table(df_, values='avg_reward', index='wind_power', columns='turb_power').astype(int)\n",
    "\n",
    "sns.heatmap(df_pivot_rand, annot=True, ax=axs[1], cmap='Blues', fmt='g')\n",
    "plt.suptitle(\"Reward for wind_power - turb_power pair\")\n",
    "axs[1].set_title(\"PLAS model\")\n",
    "axs[1].invert_yaxis()"
   ]
  },
  {
   "cell_type": "markdown",
   "id": "9235ac74-5a2c-4a56-97be-b4d5b8502ab5",
   "metadata": {},
   "source": [
    "### Baseline environment (`w=5`, `t=1`)\n",
    "We trained and evaluated the PLAS model on the same environment:\n",
    "```python\n",
    "env = gym.make(\n",
    "    \"LunarLander-v2\",\n",
    "    continuous = True,\n",
    "    gravity = -10.0,\n",
    "    enable_wind = True,\n",
    "    wind_power = 5, # between 0 and 20\n",
    "    turbulence_power = 1, # between 0 and 2\n",
    ")\n",
    "```\n",
    "\n",
    "**Random model**\n",
    "\n",
    "<img src = \"report_files/random_baseline.gif\" width=\"300\"/>\n",
    "\n",
    "**PLAS model**\n",
    "\n",
    "<img src = \"report_files/plas_baseline.gif\" width=\"300\"/>"
   ]
  },
  {
   "cell_type": "markdown",
   "id": "41598a18-59c5-4e61-bb99-5b1caf2bb8fe",
   "metadata": {},
   "source": [
    "### Out-of-distribution environments\n",
    "We tested different combinations of `wind_power` and `turbulence_power`"
   ]
  },
  {
   "cell_type": "code",
   "execution_count": 4,
   "id": "7fd0e220-84a9-4850-baab-53145e986a1a",
   "metadata": {
    "scrolled": true,
    "tags": []
   },
   "outputs": [
    {
     "data": {
      "text/html": [
       "<h4>wind_power = 0 | turbulence_power = 0.0</h4>"
      ],
      "text/plain": [
       "<IPython.core.display.HTML object>"
      ]
     },
     "metadata": {},
     "output_type": "display_data"
    },
    {
     "data": {
      "text/html": [
       "<h5>(LEFT) Random model reward = -234.0 vs (RIGHT) PLAS model reward = 176.0</h5>"
      ],
      "text/plain": [
       "<IPython.core.display.HTML object>"
      ]
     },
     "metadata": {},
     "output_type": "display_data"
    },
    {
     "data": {
      "text/html": [
       "\n",
       "                        <div class=\"row\">\n",
       "                                <img src='report_files/random_w=0_t=0.0.gif' width=300> </img>\n",
       "                                <img src='report_files/plas_w=0_t=0.0.gif' width=300> </img>\n",
       "                        </div>\n",
       "                        "
      ],
      "text/plain": [
       "<IPython.core.display.HTML object>"
      ]
     },
     "metadata": {},
     "output_type": "display_data"
    },
    {
     "name": "stdout",
     "output_type": "stream",
     "text": [
      "\n"
     ]
    },
    {
     "data": {
      "text/html": [
       "<h4>wind_power = 0 | turbulence_power = 0.5</h4>"
      ],
      "text/plain": [
       "<IPython.core.display.HTML object>"
      ]
     },
     "metadata": {},
     "output_type": "display_data"
    },
    {
     "data": {
      "text/html": [
       "<h5>(LEFT) Random model reward = -170.0 vs (RIGHT) PLAS model reward = 168.0</h5>"
      ],
      "text/plain": [
       "<IPython.core.display.HTML object>"
      ]
     },
     "metadata": {},
     "output_type": "display_data"
    },
    {
     "data": {
      "text/html": [
       "\n",
       "                        <div class=\"row\">\n",
       "                                <img src='report_files/random_w=0_t=0.5.gif' width=300> </img>\n",
       "                                <img src='report_files/plas_w=0_t=0.5.gif' width=300> </img>\n",
       "                        </div>\n",
       "                        "
      ],
      "text/plain": [
       "<IPython.core.display.HTML object>"
      ]
     },
     "metadata": {},
     "output_type": "display_data"
    },
    {
     "name": "stdout",
     "output_type": "stream",
     "text": [
      "\n"
     ]
    },
    {
     "data": {
      "text/html": [
       "<h4>wind_power = 0 | turbulence_power = 1.0</h4>"
      ],
      "text/plain": [
       "<IPython.core.display.HTML object>"
      ]
     },
     "metadata": {},
     "output_type": "display_data"
    },
    {
     "data": {
      "text/html": [
       "<h5>(LEFT) Random model reward = -307.0 vs (RIGHT) PLAS model reward = 143.0</h5>"
      ],
      "text/plain": [
       "<IPython.core.display.HTML object>"
      ]
     },
     "metadata": {},
     "output_type": "display_data"
    },
    {
     "data": {
      "text/html": [
       "\n",
       "                        <div class=\"row\">\n",
       "                                <img src='report_files/random_w=0_t=1.0.gif' width=300> </img>\n",
       "                                <img src='report_files/plas_w=0_t=1.0.gif' width=300> </img>\n",
       "                        </div>\n",
       "                        "
      ],
      "text/plain": [
       "<IPython.core.display.HTML object>"
      ]
     },
     "metadata": {},
     "output_type": "display_data"
    },
    {
     "name": "stdout",
     "output_type": "stream",
     "text": [
      "\n"
     ]
    },
    {
     "data": {
      "text/html": [
       "<h4>wind_power = 0 | turbulence_power = 1.5</h4>"
      ],
      "text/plain": [
       "<IPython.core.display.HTML object>"
      ]
     },
     "metadata": {},
     "output_type": "display_data"
    },
    {
     "data": {
      "text/html": [
       "<h5>(LEFT) Random model reward = -295.0 vs (RIGHT) PLAS model reward = 161.0</h5>"
      ],
      "text/plain": [
       "<IPython.core.display.HTML object>"
      ]
     },
     "metadata": {},
     "output_type": "display_data"
    },
    {
     "data": {
      "text/html": [
       "\n",
       "                        <div class=\"row\">\n",
       "                                <img src='report_files/random_w=0_t=1.5.gif' width=300> </img>\n",
       "                                <img src='report_files/plas_w=0_t=1.5.gif' width=300> </img>\n",
       "                        </div>\n",
       "                        "
      ],
      "text/plain": [
       "<IPython.core.display.HTML object>"
      ]
     },
     "metadata": {},
     "output_type": "display_data"
    },
    {
     "name": "stdout",
     "output_type": "stream",
     "text": [
      "\n"
     ]
    },
    {
     "data": {
      "text/html": [
       "<h4>wind_power = 0 | turbulence_power = 2.0</h4>"
      ],
      "text/plain": [
       "<IPython.core.display.HTML object>"
      ]
     },
     "metadata": {},
     "output_type": "display_data"
    },
    {
     "data": {
      "text/html": [
       "<h5>(LEFT) Random model reward = -441.0 vs (RIGHT) PLAS model reward = 177.0</h5>"
      ],
      "text/plain": [
       "<IPython.core.display.HTML object>"
      ]
     },
     "metadata": {},
     "output_type": "display_data"
    },
    {
     "data": {
      "text/html": [
       "\n",
       "                        <div class=\"row\">\n",
       "                                <img src='report_files/random_w=0_t=2.0.gif' width=300> </img>\n",
       "                                <img src='report_files/plas_w=0_t=2.0.gif' width=300> </img>\n",
       "                        </div>\n",
       "                        "
      ],
      "text/plain": [
       "<IPython.core.display.HTML object>"
      ]
     },
     "metadata": {},
     "output_type": "display_data"
    },
    {
     "name": "stdout",
     "output_type": "stream",
     "text": [
      "\n"
     ]
    },
    {
     "data": {
      "text/html": [
       "<h4>wind_power = 5 | turbulence_power = 0.0</h4>"
      ],
      "text/plain": [
       "<IPython.core.display.HTML object>"
      ]
     },
     "metadata": {},
     "output_type": "display_data"
    },
    {
     "data": {
      "text/html": [
       "<h5>(LEFT) Random model reward = -241.0 vs (RIGHT) PLAS model reward = 161.0</h5>"
      ],
      "text/plain": [
       "<IPython.core.display.HTML object>"
      ]
     },
     "metadata": {},
     "output_type": "display_data"
    },
    {
     "data": {
      "text/html": [
       "\n",
       "                        <div class=\"row\">\n",
       "                                <img src='report_files/random_w=5_t=0.0.gif' width=300> </img>\n",
       "                                <img src='report_files/plas_w=5_t=0.0.gif' width=300> </img>\n",
       "                        </div>\n",
       "                        "
      ],
      "text/plain": [
       "<IPython.core.display.HTML object>"
      ]
     },
     "metadata": {},
     "output_type": "display_data"
    },
    {
     "name": "stdout",
     "output_type": "stream",
     "text": [
      "\n"
     ]
    },
    {
     "data": {
      "text/html": [
       "<h4>wind_power = 5 | turbulence_power = 0.5</h4>"
      ],
      "text/plain": [
       "<IPython.core.display.HTML object>"
      ]
     },
     "metadata": {},
     "output_type": "display_data"
    },
    {
     "data": {
      "text/html": [
       "<h5>(LEFT) Random model reward = -226.0 vs (RIGHT) PLAS model reward = 131.0</h5>"
      ],
      "text/plain": [
       "<IPython.core.display.HTML object>"
      ]
     },
     "metadata": {},
     "output_type": "display_data"
    },
    {
     "data": {
      "text/html": [
       "\n",
       "                        <div class=\"row\">\n",
       "                                <img src='report_files/random_w=5_t=0.5.gif' width=300> </img>\n",
       "                                <img src='report_files/plas_w=5_t=0.5.gif' width=300> </img>\n",
       "                        </div>\n",
       "                        "
      ],
      "text/plain": [
       "<IPython.core.display.HTML object>"
      ]
     },
     "metadata": {},
     "output_type": "display_data"
    },
    {
     "name": "stdout",
     "output_type": "stream",
     "text": [
      "\n"
     ]
    },
    {
     "data": {
      "text/html": [
       "<h4>wind_power = 5 | turbulence_power = 1.5</h4>"
      ],
      "text/plain": [
       "<IPython.core.display.HTML object>"
      ]
     },
     "metadata": {},
     "output_type": "display_data"
    },
    {
     "data": {
      "text/html": [
       "<h5>(LEFT) Random model reward = -322.0 vs (RIGHT) PLAS model reward = 148.0</h5>"
      ],
      "text/plain": [
       "<IPython.core.display.HTML object>"
      ]
     },
     "metadata": {},
     "output_type": "display_data"
    },
    {
     "data": {
      "text/html": [
       "\n",
       "                        <div class=\"row\">\n",
       "                                <img src='report_files/random_w=5_t=1.5.gif' width=300> </img>\n",
       "                                <img src='report_files/plas_w=5_t=1.5.gif' width=300> </img>\n",
       "                        </div>\n",
       "                        "
      ],
      "text/plain": [
       "<IPython.core.display.HTML object>"
      ]
     },
     "metadata": {},
     "output_type": "display_data"
    },
    {
     "name": "stdout",
     "output_type": "stream",
     "text": [
      "\n"
     ]
    },
    {
     "data": {
      "text/html": [
       "<h4>wind_power = 5 | turbulence_power = 2.0</h4>"
      ],
      "text/plain": [
       "<IPython.core.display.HTML object>"
      ]
     },
     "metadata": {},
     "output_type": "display_data"
    },
    {
     "data": {
      "text/html": [
       "<h5>(LEFT) Random model reward = -366.0 vs (RIGHT) PLAS model reward = 149.0</h5>"
      ],
      "text/plain": [
       "<IPython.core.display.HTML object>"
      ]
     },
     "metadata": {},
     "output_type": "display_data"
    },
    {
     "data": {
      "text/html": [
       "\n",
       "                        <div class=\"row\">\n",
       "                                <img src='report_files/random_w=5_t=2.0.gif' width=300> </img>\n",
       "                                <img src='report_files/plas_w=5_t=2.0.gif' width=300> </img>\n",
       "                        </div>\n",
       "                        "
      ],
      "text/plain": [
       "<IPython.core.display.HTML object>"
      ]
     },
     "metadata": {},
     "output_type": "display_data"
    },
    {
     "name": "stdout",
     "output_type": "stream",
     "text": [
      "\n"
     ]
    },
    {
     "data": {
      "text/html": [
       "<h4>wind_power = 10 | turbulence_power = 0.0</h4>"
      ],
      "text/plain": [
       "<IPython.core.display.HTML object>"
      ]
     },
     "metadata": {},
     "output_type": "display_data"
    },
    {
     "data": {
      "text/html": [
       "<h5>(LEFT) Random model reward = -246.0 vs (RIGHT) PLAS model reward = 145.0</h5>"
      ],
      "text/plain": [
       "<IPython.core.display.HTML object>"
      ]
     },
     "metadata": {},
     "output_type": "display_data"
    },
    {
     "data": {
      "text/html": [
       "\n",
       "                        <div class=\"row\">\n",
       "                                <img src='report_files/random_w=10_t=0.0.gif' width=300> </img>\n",
       "                                <img src='report_files/plas_w=10_t=0.0.gif' width=300> </img>\n",
       "                        </div>\n",
       "                        "
      ],
      "text/plain": [
       "<IPython.core.display.HTML object>"
      ]
     },
     "metadata": {},
     "output_type": "display_data"
    },
    {
     "name": "stdout",
     "output_type": "stream",
     "text": [
      "\n"
     ]
    },
    {
     "data": {
      "text/html": [
       "<h4>wind_power = 10 | turbulence_power = 0.5</h4>"
      ],
      "text/plain": [
       "<IPython.core.display.HTML object>"
      ]
     },
     "metadata": {},
     "output_type": "display_data"
    },
    {
     "data": {
      "text/html": [
       "<h5>(LEFT) Random model reward = -232.0 vs (RIGHT) PLAS model reward = 113.0</h5>"
      ],
      "text/plain": [
       "<IPython.core.display.HTML object>"
      ]
     },
     "metadata": {},
     "output_type": "display_data"
    },
    {
     "data": {
      "text/html": [
       "\n",
       "                        <div class=\"row\">\n",
       "                                <img src='report_files/random_w=10_t=0.5.gif' width=300> </img>\n",
       "                                <img src='report_files/plas_w=10_t=0.5.gif' width=300> </img>\n",
       "                        </div>\n",
       "                        "
      ],
      "text/plain": [
       "<IPython.core.display.HTML object>"
      ]
     },
     "metadata": {},
     "output_type": "display_data"
    },
    {
     "name": "stdout",
     "output_type": "stream",
     "text": [
      "\n"
     ]
    },
    {
     "data": {
      "text/html": [
       "<h4>wind_power = 10 | turbulence_power = 1.0</h4>"
      ],
      "text/plain": [
       "<IPython.core.display.HTML object>"
      ]
     },
     "metadata": {},
     "output_type": "display_data"
    },
    {
     "data": {
      "text/html": [
       "<h5>(LEFT) Random model reward = -248.0 vs (RIGHT) PLAS model reward = 161.0</h5>"
      ],
      "text/plain": [
       "<IPython.core.display.HTML object>"
      ]
     },
     "metadata": {},
     "output_type": "display_data"
    },
    {
     "data": {
      "text/html": [
       "\n",
       "                        <div class=\"row\">\n",
       "                                <img src='report_files/random_w=10_t=1.0.gif' width=300> </img>\n",
       "                                <img src='report_files/plas_w=10_t=1.0.gif' width=300> </img>\n",
       "                        </div>\n",
       "                        "
      ],
      "text/plain": [
       "<IPython.core.display.HTML object>"
      ]
     },
     "metadata": {},
     "output_type": "display_data"
    },
    {
     "name": "stdout",
     "output_type": "stream",
     "text": [
      "\n"
     ]
    },
    {
     "data": {
      "text/html": [
       "<h4>wind_power = 10 | turbulence_power = 1.5</h4>"
      ],
      "text/plain": [
       "<IPython.core.display.HTML object>"
      ]
     },
     "metadata": {},
     "output_type": "display_data"
    },
    {
     "data": {
      "text/html": [
       "<h5>(LEFT) Random model reward = -344.0 vs (RIGHT) PLAS model reward = 159.0</h5>"
      ],
      "text/plain": [
       "<IPython.core.display.HTML object>"
      ]
     },
     "metadata": {},
     "output_type": "display_data"
    },
    {
     "data": {
      "text/html": [
       "\n",
       "                        <div class=\"row\">\n",
       "                                <img src='report_files/random_w=10_t=1.5.gif' width=300> </img>\n",
       "                                <img src='report_files/plas_w=10_t=1.5.gif' width=300> </img>\n",
       "                        </div>\n",
       "                        "
      ],
      "text/plain": [
       "<IPython.core.display.HTML object>"
      ]
     },
     "metadata": {},
     "output_type": "display_data"
    },
    {
     "name": "stdout",
     "output_type": "stream",
     "text": [
      "\n"
     ]
    },
    {
     "data": {
      "text/html": [
       "<h4>wind_power = 10 | turbulence_power = 2.0</h4>"
      ],
      "text/plain": [
       "<IPython.core.display.HTML object>"
      ]
     },
     "metadata": {},
     "output_type": "display_data"
    },
    {
     "data": {
      "text/html": [
       "<h5>(LEFT) Random model reward = -367.0 vs (RIGHT) PLAS model reward = 134.0</h5>"
      ],
      "text/plain": [
       "<IPython.core.display.HTML object>"
      ]
     },
     "metadata": {},
     "output_type": "display_data"
    },
    {
     "data": {
      "text/html": [
       "\n",
       "                        <div class=\"row\">\n",
       "                                <img src='report_files/random_w=10_t=2.0.gif' width=300> </img>\n",
       "                                <img src='report_files/plas_w=10_t=2.0.gif' width=300> </img>\n",
       "                        </div>\n",
       "                        "
      ],
      "text/plain": [
       "<IPython.core.display.HTML object>"
      ]
     },
     "metadata": {},
     "output_type": "display_data"
    },
    {
     "name": "stdout",
     "output_type": "stream",
     "text": [
      "\n"
     ]
    },
    {
     "data": {
      "text/html": [
       "<h4>wind_power = 15 | turbulence_power = 0.0</h4>"
      ],
      "text/plain": [
       "<IPython.core.display.HTML object>"
      ]
     },
     "metadata": {},
     "output_type": "display_data"
    },
    {
     "data": {
      "text/html": [
       "<h5>(LEFT) Random model reward = -212.0 vs (RIGHT) PLAS model reward = 79.0</h5>"
      ],
      "text/plain": [
       "<IPython.core.display.HTML object>"
      ]
     },
     "metadata": {},
     "output_type": "display_data"
    },
    {
     "data": {
      "text/html": [
       "\n",
       "                        <div class=\"row\">\n",
       "                                <img src='report_files/random_w=15_t=0.0.gif' width=300> </img>\n",
       "                                <img src='report_files/plas_w=15_t=0.0.gif' width=300> </img>\n",
       "                        </div>\n",
       "                        "
      ],
      "text/plain": [
       "<IPython.core.display.HTML object>"
      ]
     },
     "metadata": {},
     "output_type": "display_data"
    },
    {
     "name": "stdout",
     "output_type": "stream",
     "text": [
      "\n"
     ]
    },
    {
     "data": {
      "text/html": [
       "<h4>wind_power = 15 | turbulence_power = 0.5</h4>"
      ],
      "text/plain": [
       "<IPython.core.display.HTML object>"
      ]
     },
     "metadata": {},
     "output_type": "display_data"
    },
    {
     "data": {
      "text/html": [
       "<h5>(LEFT) Random model reward = -220.0 vs (RIGHT) PLAS model reward = 136.0</h5>"
      ],
      "text/plain": [
       "<IPython.core.display.HTML object>"
      ]
     },
     "metadata": {},
     "output_type": "display_data"
    },
    {
     "data": {
      "text/html": [
       "\n",
       "                        <div class=\"row\">\n",
       "                                <img src='report_files/random_w=15_t=0.5.gif' width=300> </img>\n",
       "                                <img src='report_files/plas_w=15_t=0.5.gif' width=300> </img>\n",
       "                        </div>\n",
       "                        "
      ],
      "text/plain": [
       "<IPython.core.display.HTML object>"
      ]
     },
     "metadata": {},
     "output_type": "display_data"
    },
    {
     "name": "stdout",
     "output_type": "stream",
     "text": [
      "\n"
     ]
    },
    {
     "data": {
      "text/html": [
       "<h4>wind_power = 15 | turbulence_power = 1.0</h4>"
      ],
      "text/plain": [
       "<IPython.core.display.HTML object>"
      ]
     },
     "metadata": {},
     "output_type": "display_data"
    },
    {
     "data": {
      "text/html": [
       "<h5>(LEFT) Random model reward = -296.0 vs (RIGHT) PLAS model reward = 125.0</h5>"
      ],
      "text/plain": [
       "<IPython.core.display.HTML object>"
      ]
     },
     "metadata": {},
     "output_type": "display_data"
    },
    {
     "data": {
      "text/html": [
       "\n",
       "                        <div class=\"row\">\n",
       "                                <img src='report_files/random_w=15_t=1.0.gif' width=300> </img>\n",
       "                                <img src='report_files/plas_w=15_t=1.0.gif' width=300> </img>\n",
       "                        </div>\n",
       "                        "
      ],
      "text/plain": [
       "<IPython.core.display.HTML object>"
      ]
     },
     "metadata": {},
     "output_type": "display_data"
    },
    {
     "name": "stdout",
     "output_type": "stream",
     "text": [
      "\n"
     ]
    },
    {
     "data": {
      "text/html": [
       "<h4>wind_power = 15 | turbulence_power = 1.5</h4>"
      ],
      "text/plain": [
       "<IPython.core.display.HTML object>"
      ]
     },
     "metadata": {},
     "output_type": "display_data"
    },
    {
     "data": {
      "text/html": [
       "<h5>(LEFT) Random model reward = -322.0 vs (RIGHT) PLAS model reward = 136.0</h5>"
      ],
      "text/plain": [
       "<IPython.core.display.HTML object>"
      ]
     },
     "metadata": {},
     "output_type": "display_data"
    },
    {
     "data": {
      "text/html": [
       "\n",
       "                        <div class=\"row\">\n",
       "                                <img src='report_files/random_w=15_t=1.5.gif' width=300> </img>\n",
       "                                <img src='report_files/plas_w=15_t=1.5.gif' width=300> </img>\n",
       "                        </div>\n",
       "                        "
      ],
      "text/plain": [
       "<IPython.core.display.HTML object>"
      ]
     },
     "metadata": {},
     "output_type": "display_data"
    },
    {
     "name": "stdout",
     "output_type": "stream",
     "text": [
      "\n"
     ]
    },
    {
     "data": {
      "text/html": [
       "<h4>wind_power = 15 | turbulence_power = 2.0</h4>"
      ],
      "text/plain": [
       "<IPython.core.display.HTML object>"
      ]
     },
     "metadata": {},
     "output_type": "display_data"
    },
    {
     "data": {
      "text/html": [
       "<h5>(LEFT) Random model reward = -385.0 vs (RIGHT) PLAS model reward = 108.0</h5>"
      ],
      "text/plain": [
       "<IPython.core.display.HTML object>"
      ]
     },
     "metadata": {},
     "output_type": "display_data"
    },
    {
     "data": {
      "text/html": [
       "\n",
       "                        <div class=\"row\">\n",
       "                                <img src='report_files/random_w=15_t=2.0.gif' width=300> </img>\n",
       "                                <img src='report_files/plas_w=15_t=2.0.gif' width=300> </img>\n",
       "                        </div>\n",
       "                        "
      ],
      "text/plain": [
       "<IPython.core.display.HTML object>"
      ]
     },
     "metadata": {},
     "output_type": "display_data"
    },
    {
     "name": "stdout",
     "output_type": "stream",
     "text": [
      "\n"
     ]
    },
    {
     "data": {
      "text/html": [
       "<h4>wind_power = 20 | turbulence_power = 0.0</h4>"
      ],
      "text/plain": [
       "<IPython.core.display.HTML object>"
      ]
     },
     "metadata": {},
     "output_type": "display_data"
    },
    {
     "data": {
      "text/html": [
       "<h5>(LEFT) Random model reward = -253.0 vs (RIGHT) PLAS model reward = 72.0</h5>"
      ],
      "text/plain": [
       "<IPython.core.display.HTML object>"
      ]
     },
     "metadata": {},
     "output_type": "display_data"
    },
    {
     "data": {
      "text/html": [
       "\n",
       "                        <div class=\"row\">\n",
       "                                <img src='report_files/random_w=20_t=0.0.gif' width=300> </img>\n",
       "                                <img src='report_files/plas_w=20_t=0.0.gif' width=300> </img>\n",
       "                        </div>\n",
       "                        "
      ],
      "text/plain": [
       "<IPython.core.display.HTML object>"
      ]
     },
     "metadata": {},
     "output_type": "display_data"
    },
    {
     "name": "stdout",
     "output_type": "stream",
     "text": [
      "\n"
     ]
    },
    {
     "data": {
      "text/html": [
       "<h4>wind_power = 20 | turbulence_power = 0.5</h4>"
      ],
      "text/plain": [
       "<IPython.core.display.HTML object>"
      ]
     },
     "metadata": {},
     "output_type": "display_data"
    },
    {
     "data": {
      "text/html": [
       "<h5>(LEFT) Random model reward = -189.0 vs (RIGHT) PLAS model reward = 94.0</h5>"
      ],
      "text/plain": [
       "<IPython.core.display.HTML object>"
      ]
     },
     "metadata": {},
     "output_type": "display_data"
    },
    {
     "data": {
      "text/html": [
       "\n",
       "                        <div class=\"row\">\n",
       "                                <img src='report_files/random_w=20_t=0.5.gif' width=300> </img>\n",
       "                                <img src='report_files/plas_w=20_t=0.5.gif' width=300> </img>\n",
       "                        </div>\n",
       "                        "
      ],
      "text/plain": [
       "<IPython.core.display.HTML object>"
      ]
     },
     "metadata": {},
     "output_type": "display_data"
    },
    {
     "name": "stdout",
     "output_type": "stream",
     "text": [
      "\n"
     ]
    },
    {
     "data": {
      "text/html": [
       "<h4>wind_power = 20 | turbulence_power = 1.0</h4>"
      ],
      "text/plain": [
       "<IPython.core.display.HTML object>"
      ]
     },
     "metadata": {},
     "output_type": "display_data"
    },
    {
     "data": {
      "text/html": [
       "<h5>(LEFT) Random model reward = -308.0 vs (RIGHT) PLAS model reward = 44.0</h5>"
      ],
      "text/plain": [
       "<IPython.core.display.HTML object>"
      ]
     },
     "metadata": {},
     "output_type": "display_data"
    },
    {
     "data": {
      "text/html": [
       "\n",
       "                        <div class=\"row\">\n",
       "                                <img src='report_files/random_w=20_t=1.0.gif' width=300> </img>\n",
       "                                <img src='report_files/plas_w=20_t=1.0.gif' width=300> </img>\n",
       "                        </div>\n",
       "                        "
      ],
      "text/plain": [
       "<IPython.core.display.HTML object>"
      ]
     },
     "metadata": {},
     "output_type": "display_data"
    },
    {
     "name": "stdout",
     "output_type": "stream",
     "text": [
      "\n"
     ]
    },
    {
     "data": {
      "text/html": [
       "<h4>wind_power = 20 | turbulence_power = 1.5</h4>"
      ],
      "text/plain": [
       "<IPython.core.display.HTML object>"
      ]
     },
     "metadata": {},
     "output_type": "display_data"
    },
    {
     "data": {
      "text/html": [
       "<h5>(LEFT) Random model reward = -328.0 vs (RIGHT) PLAS model reward = 94.0</h5>"
      ],
      "text/plain": [
       "<IPython.core.display.HTML object>"
      ]
     },
     "metadata": {},
     "output_type": "display_data"
    },
    {
     "data": {
      "text/html": [
       "\n",
       "                        <div class=\"row\">\n",
       "                                <img src='report_files/random_w=20_t=1.5.gif' width=300> </img>\n",
       "                                <img src='report_files/plas_w=20_t=1.5.gif' width=300> </img>\n",
       "                        </div>\n",
       "                        "
      ],
      "text/plain": [
       "<IPython.core.display.HTML object>"
      ]
     },
     "metadata": {},
     "output_type": "display_data"
    },
    {
     "name": "stdout",
     "output_type": "stream",
     "text": [
      "\n"
     ]
    },
    {
     "data": {
      "text/html": [
       "<h4>wind_power = 20 | turbulence_power = 2.0</h4>"
      ],
      "text/plain": [
       "<IPython.core.display.HTML object>"
      ]
     },
     "metadata": {},
     "output_type": "display_data"
    },
    {
     "data": {
      "text/html": [
       "<h5>(LEFT) Random model reward = -395.0 vs (RIGHT) PLAS model reward = 66.0</h5>"
      ],
      "text/plain": [
       "<IPython.core.display.HTML object>"
      ]
     },
     "metadata": {},
     "output_type": "display_data"
    },
    {
     "data": {
      "text/html": [
       "\n",
       "                        <div class=\"row\">\n",
       "                                <img src='report_files/random_w=20_t=2.0.gif' width=300> </img>\n",
       "                                <img src='report_files/plas_w=20_t=2.0.gif' width=300> </img>\n",
       "                        </div>\n",
       "                        "
      ],
      "text/plain": [
       "<IPython.core.display.HTML object>"
      ]
     },
     "metadata": {},
     "output_type": "display_data"
    },
    {
     "name": "stdout",
     "output_type": "stream",
     "text": [
      "\n"
     ]
    }
   ],
   "source": [
    "wind_powers = np.arange(0, 21, 5)\n",
    "turb_powers = np.arange(0, 2.5, 0.5)\n",
    "\n",
    "for w in wind_powers:\n",
    "    for t in turb_powers:\n",
    "        if w != 5 or t != 1: # this is the baseline\n",
    "            w = np.around(w, 3)\n",
    "            t = np.around(t, 3)            \n",
    "            \n",
    "            rand_reward = np.around(df_results[(df_results.agent_type=='random') \n",
    "                                               & (df_results.wind_power == w) \n",
    "                                               & (df_results.turb_power== t)]['avg_reward'].values[0], 0)\n",
    "            plas_reward = np.around(df_results[(df_results.agent_type=='plas') \n",
    "                                               & (df_results.wind_power == w) \n",
    "                                               & (df_results.turb_power== t)]['avg_reward'].values[0], 0)\n",
    "            \n",
    "            display(HTML(f\"<h4>wind_power = {w} | turbulence_power = {t}</h4>\"))\n",
    "            display(HTML(f\"<h5>(LEFT) Random model reward = {rand_reward} vs (RIGHT) PLAS model reward = {plas_reward}</h5>\"))\n",
    "            display(HTML(f\"\"\"\n",
    "                        <div class=\"row\">\n",
    "                                <img src='report_files/random_w={w}_t={t}.gif' width=300> </img>\n",
    "                                <img src='report_files/plas_w={w}_t={t}.gif' width=300> </img>\n",
    "                        </div>\n",
    "                        \"\"\"))\n",
    "            print()"
   ]
  },
  {
   "cell_type": "markdown",
   "id": "9c60885b-085f-4f5e-84a0-47d53f544e59",
   "metadata": {},
   "source": [
    "## August 30, 2022 Update\n",
    "\n",
    "### Experiments\n",
    "* Evaluated the performance of the PLAS model on three datasets for the bullet walker simulation\n",
    "    * `bullet-walker2d-random-v0-0` - collected using a random policy\n",
    "    * `bullet-walker2d-medium-v0-0` - collected using a medium policy (not random but not expert)\n",
    "    * `bullet-walker2d-expert-v0-0` - collected using an expert policy (well-trained model\n",
    "* Environment is the default `bullet-walker2d` environment\n",
    "\n",
    "### Takeaways\n",
    "* Model trained on data from a expert policy performs the best\n",
    "    * Dropped off quickly over training iterations - this is not what we want.\n",
    "    * **Can this be a point of improvement?**\n",
    "* Model trained on data from a medium policy can perform better than random\n",
    "    * Learning is unstable over training iterations\n",
    "    * **Can we somehow stabilize this?**\n",
    "* Model trained on random can learn a policy better than random but the performance is not so good\n",
    "    * The VAE model underfits the data\n",
    "    * The best the model is able to do is keep the robot stationary and not fall down\n",
    "    * This may be very difficult - extrapolating good action-state combinations from a dataset of not-so-good action-state combinations\n",
    "\n",
    "### Notebook\n",
    "* See `experiments_bulletwalker.ipynb` for details of the experiment\n"
   ]
  },
  {
   "cell_type": "code",
   "execution_count": 5,
   "id": "fd66cd61-bbf5-47a3-bb1d-4e910af98156",
   "metadata": {},
   "outputs": [
    {
     "data": {
      "text/html": [
       "\n",
       "        <iframe\n",
       "            width=\"100%\"\n",
       "            height=\"600\"\n",
       "            src=\"https://docs.google.com/presentation/d/e/2PACX-1vSI_Ea2Vl7JAB8cOz42qJC3uFaW7B_-c5mqEE72DwbmVutuzuEiHxWWh9fCYSlcFs9m2MG88pvjd3xZ/embed?start=false&loop=false&delayms=3000\"\n",
       "            frameborder=\"0\"\n",
       "            allowfullscreen\n",
       "            \n",
       "        ></iframe>\n",
       "        "
      ],
      "text/plain": [
       "<IPython.lib.display.IFrame at 0x7f79f5a07090>"
      ]
     },
     "execution_count": 5,
     "metadata": {},
     "output_type": "execute_result"
    }
   ],
   "source": [
    "IFrame('https://docs.google.com/presentation/d/e/2PACX-1vSI_Ea2Vl7JAB8cOz42qJC3uFaW7B_-c5mqEE72DwbmVutuzuEiHxWWh9fCYSlcFs9m2MG88pvjd3xZ/embed?start=false&loop=false&delayms=3000', \n",
    "       '100%', '600')"
   ]
  },
  {
   "cell_type": "code",
   "execution_count": null,
   "id": "b5e32f62-841d-4e89-844e-47adb2d46177",
   "metadata": {},
   "outputs": [],
   "source": []
  }
 ],
 "metadata": {
  "kernelspec": {
   "display_name": "Python 3",
   "language": "python",
   "name": "python3"
  },
  "language_info": {
   "codemirror_mode": {
    "name": "ipython",
    "version": 3
   },
   "file_extension": ".py",
   "mimetype": "text/x-python",
   "name": "python",
   "nbconvert_exporter": "python",
   "pygments_lexer": "ipython3",
   "version": "3.7.4"
  }
 },
 "nbformat": 4,
 "nbformat_minor": 5
}
