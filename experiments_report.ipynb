{
 "cells": [
  {
   "cell_type": "markdown",
   "id": "270bd256-81ce-4981-b4ad-d00f4c4cee15",
   "metadata": {},
   "source": [
    "# Experiments Report"
   ]
  },
  {
   "cell_type": "code",
   "execution_count": 15,
   "id": "c4a1a9ff-2142-429a-b5a2-51ea146d6c78",
   "metadata": {},
   "outputs": [],
   "source": [
    "import pandas as pd\n",
    "import numpy as np\n",
    "import matplotlib.pyplot as plt\n",
    "import glob\n",
    "\n",
    "from IPython.display import IFrame\n",
    "from IPython.core.display import display\n",
    "from IPython.core.display import HTML"
   ]
  },
  {
   "cell_type": "markdown",
   "id": "43b85a9e-4f1e-4afd-84d6-bbd7b6c88987",
   "metadata": {},
   "source": [
    "## References\n",
    "**Experiments code**\n",
    "* https://github.com/PrinceJavier/rl_plas_experiment\n",
    "\n",
    "**Reference paper and code**\n",
    "* PLAS: Latent Action Space for Offline Reinforcement Learning (2020)\n",
    "* https://sites.google.com/view/latent-policy\n",
    "* https://github.com/Wenxuan-Zhou/PLAS\n",
    "\n",
    "**RL Environment**\n",
    "* https://www.gymlibrary.dev/environments/box2d/lunar_lander/"
   ]
  },
  {
   "cell_type": "markdown",
   "id": "c9e80f01-cd07-41dc-ae7d-82665206095a",
   "metadata": {},
   "source": [
    "## September 6, 2022 Update\n",
    "### Data collection process\n",
    "* Needed to generate own data due to lack of ready-to-use offline data for `LunarLander-v2`.\n",
    "* Defined a `LunarLander-v2` environment\n",
    "```python\n",
    "env = gym.make(\n",
    "    \"LunarLander-v2\",\n",
    "    continuous = True,\n",
    "    gravity = -10.0,\n",
    "    enable_wind = True,\n",
    "    wind_power = 5, # between 0 and 20\n",
    "    turbulence_power = 1, # between 0 and 2\n",
    ")\n",
    "```\n",
    "* Trained a PPO model\n",
    "```python\n",
    "from stable_baselines3 import PPO\n",
    "model = PPO(\"MlpPolicy\", env, verbose=1, device='cpu')\n",
    "model.learn(total_timesteps=100000)\n",
    "```\n",
    "* Generated 1,000,000 datapoints using the trained PPO model\n",
    "    * `observations` - array of observations per time step\n",
    "    * `actions` - array of selected actions per time step\n",
    "    * `next_observations` - array of new observations after selection action per time step\n",
    "    * `rewards` - array of reward per time step\n",
    "    * `terminals` - array of `True` or `False` values indicating if each round is over\n",
    "\n",
    "### Experiments\n",
    "* Trained PLAS model on the collected offline data\n",
    "* For evaluation, experimented with different values of `wind_power` and `turbulence_power` - out of distribution\n",
    "```python\n",
    "wind_powers = np.arange(0, 21, 1)\n",
    "turb_powers = np.arange(0, 2, 0.2)\n",
    "```\n",
    "\n",
    "### Takeaways\n",
    "\n",
    "### Notebooks\n",
    "* `data_gen_lunar_lander.ipynb` - code for the data collection process\n",
    "* `experiments_lunar_lander.ipynb` - code for experiments"
   ]
  },
  {
   "cell_type": "markdown",
   "id": "3158bc67-cc33-4ac0-9587-9b410caaefde",
   "metadata": {},
   "source": [
    "### Training Performance\n",
    "* Average reward (30 iterations each evaluation) fluctuates widely over training iterations\n",
    "* Stagnant over training iterations\n",
    "* **Is there a way to make this more stable?**\n",
    "\n",
    "<img src = \"report_files/lunar_lander_plas_training_perf.png\" width=\"500\" />"
   ]
  },
  {
   "cell_type": "markdown",
   "id": "5e7748da-4dc0-48e3-859f-0677ec7c8134",
   "metadata": {},
   "source": [
    "### Results"
   ]
  },
  {
   "cell_type": "code",
   "execution_count": 45,
   "id": "770b591a-a081-4771-b7f5-7654b9373735",
   "metadata": {},
   "outputs": [
    {
     "data": {
      "text/html": [
       "<div>\n",
       "<style scoped>\n",
       "    .dataframe tbody tr th:only-of-type {\n",
       "        vertical-align: middle;\n",
       "    }\n",
       "\n",
       "    .dataframe tbody tr th {\n",
       "        vertical-align: top;\n",
       "    }\n",
       "\n",
       "    .dataframe thead th {\n",
       "        text-align: right;\n",
       "    }\n",
       "</style>\n",
       "<table border=\"1\" class=\"dataframe\">\n",
       "  <thead>\n",
       "    <tr style=\"text-align: right;\">\n",
       "      <th></th>\n",
       "      <th>env_type</th>\n",
       "      <th>wind_power</th>\n",
       "      <th>turb_power</th>\n",
       "      <th>agent_type</th>\n",
       "      <th>avg_reward</th>\n",
       "    </tr>\n",
       "  </thead>\n",
       "  <tbody>\n",
       "    <tr>\n",
       "      <th>0</th>\n",
       "      <td>baseline</td>\n",
       "      <td>5</td>\n",
       "      <td>1</td>\n",
       "      <td>random</td>\n",
       "      <td>-250.404784</td>\n",
       "    </tr>\n",
       "    <tr>\n",
       "      <th>1</th>\n",
       "      <td>baseline</td>\n",
       "      <td>5</td>\n",
       "      <td>1</td>\n",
       "      <td>plas</td>\n",
       "      <td>157.242059</td>\n",
       "    </tr>\n",
       "  </tbody>\n",
       "</table>\n",
       "</div>"
      ],
      "text/plain": [
       "   env_type  wind_power  turb_power agent_type  avg_reward\n",
       "0  baseline           5           1     random -250.404784\n",
       "1  baseline           5           1       plas  157.242059"
      ]
     },
     "execution_count": 45,
     "metadata": {},
     "output_type": "execute_result"
    }
   ],
   "source": [
    "df_results = pd.read_csv(\"report_files/results.csv\")\n",
    "df_results"
   ]
  },
  {
   "cell_type": "code",
   "execution_count": null,
   "id": "0ff34110-bd82-4774-95fc-fcc431fb242a",
   "metadata": {},
   "outputs": [],
   "source": [
    "# heat map of turb power vs wind power\n",
    "# random and for plas"
   ]
  },
  {
   "cell_type": "markdown",
   "id": "9235ac74-5a2c-4a56-97be-b4d5b8502ab5",
   "metadata": {},
   "source": [
    "### Baseline environment (`w=5`, `t=1`)\n",
    "```python\n",
    "env = gym.make(\n",
    "    \"LunarLander-v2\",\n",
    "    continuous = True,\n",
    "    gravity = -10.0,\n",
    "    enable_wind = True,\n",
    "    wind_power = 5, # between 0 and 20\n",
    "    turbulence_power = 1, # between 0 and 2\n",
    ")\n",
    "```\n",
    "\n",
    "**Random model**\n",
    "\n",
    "<img src = \"report_files/random_baseline.gif\" width=\"300\"/>\n",
    "\n",
    "**PLAS model**\n",
    "\n",
    "<img src = \"report_files/plas_baseline.gif\" width=\"300\"/>"
   ]
  },
  {
   "cell_type": "markdown",
   "id": "41598a18-59c5-4e61-bb99-5b1caf2bb8fe",
   "metadata": {},
   "source": [
    "### Out-of-distribution environments\n",
    "* We tested different combinations of `wind_power` and `turbulence_power`"
   ]
  },
  {
   "cell_type": "code",
   "execution_count": 52,
   "id": "7fd0e220-84a9-4850-baab-53145e986a1a",
   "metadata": {
    "scrolled": true,
    "tags": []
   },
   "outputs": [
    {
     "data": {
      "text/html": [
       "<h4>wind_power = 0 | turbulence_power = 0.0</h4>"
      ],
      "text/plain": [
       "<IPython.core.display.HTML object>"
      ]
     },
     "metadata": {},
     "output_type": "display_data"
    },
    {
     "data": {
      "text/html": [
       "<h5>(left) Random model reward = Empty DataFrame\n",
       "Columns: [env_type, wind_power, turb_power, agent_type, avg_reward]\n",
       "Index: [] vs (right) PLAS model reward = Empty DataFrame\n",
       "Columns: [env_type, wind_power, turb_power, agent_type, avg_reward]\n",
       "Index: []</h5>"
      ],
      "text/plain": [
       "<IPython.core.display.HTML object>"
      ]
     },
     "metadata": {},
     "output_type": "display_data"
    },
    {
     "data": {
      "text/html": [
       "\n",
       "                        <div class=\"row\">\n",
       "                                <img src='report_files/random_w=0_t=0.0.gif' width=300> </img>\n",
       "                                <img src='report_files/plas_w=0_t=0.0.gif' width=300> </img>\n",
       "                        </div>\n",
       "                        "
      ],
      "text/plain": [
       "<IPython.core.display.HTML object>"
      ]
     },
     "metadata": {},
     "output_type": "display_data"
    },
    {
     "name": "stdout",
     "output_type": "stream",
     "text": [
      "\n"
     ]
    },
    {
     "data": {
      "text/html": [
       "<h4>wind_power = 0 | turbulence_power = 0.5</h4>"
      ],
      "text/plain": [
       "<IPython.core.display.HTML object>"
      ]
     },
     "metadata": {},
     "output_type": "display_data"
    },
    {
     "data": {
      "text/html": [
       "<h5>(left) Random model reward = Empty DataFrame\n",
       "Columns: [env_type, wind_power, turb_power, agent_type, avg_reward]\n",
       "Index: [] vs (right) PLAS model reward = Empty DataFrame\n",
       "Columns: [env_type, wind_power, turb_power, agent_type, avg_reward]\n",
       "Index: []</h5>"
      ],
      "text/plain": [
       "<IPython.core.display.HTML object>"
      ]
     },
     "metadata": {},
     "output_type": "display_data"
    },
    {
     "data": {
      "text/html": [
       "\n",
       "                        <div class=\"row\">\n",
       "                                <img src='report_files/random_w=0_t=0.5.gif' width=300> </img>\n",
       "                                <img src='report_files/plas_w=0_t=0.5.gif' width=300> </img>\n",
       "                        </div>\n",
       "                        "
      ],
      "text/plain": [
       "<IPython.core.display.HTML object>"
      ]
     },
     "metadata": {},
     "output_type": "display_data"
    },
    {
     "name": "stdout",
     "output_type": "stream",
     "text": [
      "\n"
     ]
    },
    {
     "data": {
      "text/html": [
       "<h4>wind_power = 0 | turbulence_power = 1.5</h4>"
      ],
      "text/plain": [
       "<IPython.core.display.HTML object>"
      ]
     },
     "metadata": {},
     "output_type": "display_data"
    },
    {
     "data": {
      "text/html": [
       "<h5>(left) Random model reward = Empty DataFrame\n",
       "Columns: [env_type, wind_power, turb_power, agent_type, avg_reward]\n",
       "Index: [] vs (right) PLAS model reward = Empty DataFrame\n",
       "Columns: [env_type, wind_power, turb_power, agent_type, avg_reward]\n",
       "Index: []</h5>"
      ],
      "text/plain": [
       "<IPython.core.display.HTML object>"
      ]
     },
     "metadata": {},
     "output_type": "display_data"
    },
    {
     "data": {
      "text/html": [
       "\n",
       "                        <div class=\"row\">\n",
       "                                <img src='report_files/random_w=0_t=1.5.gif' width=300> </img>\n",
       "                                <img src='report_files/plas_w=0_t=1.5.gif' width=300> </img>\n",
       "                        </div>\n",
       "                        "
      ],
      "text/plain": [
       "<IPython.core.display.HTML object>"
      ]
     },
     "metadata": {},
     "output_type": "display_data"
    },
    {
     "name": "stdout",
     "output_type": "stream",
     "text": [
      "\n"
     ]
    },
    {
     "data": {
      "text/html": [
       "<h4>wind_power = 0 | turbulence_power = 2.0</h4>"
      ],
      "text/plain": [
       "<IPython.core.display.HTML object>"
      ]
     },
     "metadata": {},
     "output_type": "display_data"
    },
    {
     "data": {
      "text/html": [
       "<h5>(left) Random model reward = Empty DataFrame\n",
       "Columns: [env_type, wind_power, turb_power, agent_type, avg_reward]\n",
       "Index: [] vs (right) PLAS model reward = Empty DataFrame\n",
       "Columns: [env_type, wind_power, turb_power, agent_type, avg_reward]\n",
       "Index: []</h5>"
      ],
      "text/plain": [
       "<IPython.core.display.HTML object>"
      ]
     },
     "metadata": {},
     "output_type": "display_data"
    },
    {
     "data": {
      "text/html": [
       "\n",
       "                        <div class=\"row\">\n",
       "                                <img src='report_files/random_w=0_t=2.0.gif' width=300> </img>\n",
       "                                <img src='report_files/plas_w=0_t=2.0.gif' width=300> </img>\n",
       "                        </div>\n",
       "                        "
      ],
      "text/plain": [
       "<IPython.core.display.HTML object>"
      ]
     },
     "metadata": {},
     "output_type": "display_data"
    },
    {
     "name": "stdout",
     "output_type": "stream",
     "text": [
      "\n"
     ]
    },
    {
     "data": {
      "text/html": [
       "<h4>wind_power = 10 | turbulence_power = 0.0</h4>"
      ],
      "text/plain": [
       "<IPython.core.display.HTML object>"
      ]
     },
     "metadata": {},
     "output_type": "display_data"
    },
    {
     "data": {
      "text/html": [
       "<h5>(left) Random model reward = Empty DataFrame\n",
       "Columns: [env_type, wind_power, turb_power, agent_type, avg_reward]\n",
       "Index: [] vs (right) PLAS model reward = Empty DataFrame\n",
       "Columns: [env_type, wind_power, turb_power, agent_type, avg_reward]\n",
       "Index: []</h5>"
      ],
      "text/plain": [
       "<IPython.core.display.HTML object>"
      ]
     },
     "metadata": {},
     "output_type": "display_data"
    },
    {
     "data": {
      "text/html": [
       "\n",
       "                        <div class=\"row\">\n",
       "                                <img src='report_files/random_w=10_t=0.0.gif' width=300> </img>\n",
       "                                <img src='report_files/plas_w=10_t=0.0.gif' width=300> </img>\n",
       "                        </div>\n",
       "                        "
      ],
      "text/plain": [
       "<IPython.core.display.HTML object>"
      ]
     },
     "metadata": {},
     "output_type": "display_data"
    },
    {
     "name": "stdout",
     "output_type": "stream",
     "text": [
      "\n"
     ]
    },
    {
     "data": {
      "text/html": [
       "<h4>wind_power = 10 | turbulence_power = 0.5</h4>"
      ],
      "text/plain": [
       "<IPython.core.display.HTML object>"
      ]
     },
     "metadata": {},
     "output_type": "display_data"
    },
    {
     "data": {
      "text/html": [
       "<h5>(left) Random model reward = Empty DataFrame\n",
       "Columns: [env_type, wind_power, turb_power, agent_type, avg_reward]\n",
       "Index: [] vs (right) PLAS model reward = Empty DataFrame\n",
       "Columns: [env_type, wind_power, turb_power, agent_type, avg_reward]\n",
       "Index: []</h5>"
      ],
      "text/plain": [
       "<IPython.core.display.HTML object>"
      ]
     },
     "metadata": {},
     "output_type": "display_data"
    },
    {
     "data": {
      "text/html": [
       "\n",
       "                        <div class=\"row\">\n",
       "                                <img src='report_files/random_w=10_t=0.5.gif' width=300> </img>\n",
       "                                <img src='report_files/plas_w=10_t=0.5.gif' width=300> </img>\n",
       "                        </div>\n",
       "                        "
      ],
      "text/plain": [
       "<IPython.core.display.HTML object>"
      ]
     },
     "metadata": {},
     "output_type": "display_data"
    },
    {
     "name": "stdout",
     "output_type": "stream",
     "text": [
      "\n"
     ]
    },
    {
     "data": {
      "text/html": [
       "<h4>wind_power = 10 | turbulence_power = 1.5</h4>"
      ],
      "text/plain": [
       "<IPython.core.display.HTML object>"
      ]
     },
     "metadata": {},
     "output_type": "display_data"
    },
    {
     "data": {
      "text/html": [
       "<h5>(left) Random model reward = Empty DataFrame\n",
       "Columns: [env_type, wind_power, turb_power, agent_type, avg_reward]\n",
       "Index: [] vs (right) PLAS model reward = Empty DataFrame\n",
       "Columns: [env_type, wind_power, turb_power, agent_type, avg_reward]\n",
       "Index: []</h5>"
      ],
      "text/plain": [
       "<IPython.core.display.HTML object>"
      ]
     },
     "metadata": {},
     "output_type": "display_data"
    },
    {
     "data": {
      "text/html": [
       "\n",
       "                        <div class=\"row\">\n",
       "                                <img src='report_files/random_w=10_t=1.5.gif' width=300> </img>\n",
       "                                <img src='report_files/plas_w=10_t=1.5.gif' width=300> </img>\n",
       "                        </div>\n",
       "                        "
      ],
      "text/plain": [
       "<IPython.core.display.HTML object>"
      ]
     },
     "metadata": {},
     "output_type": "display_data"
    },
    {
     "name": "stdout",
     "output_type": "stream",
     "text": [
      "\n"
     ]
    },
    {
     "data": {
      "text/html": [
       "<h4>wind_power = 10 | turbulence_power = 2.0</h4>"
      ],
      "text/plain": [
       "<IPython.core.display.HTML object>"
      ]
     },
     "metadata": {},
     "output_type": "display_data"
    },
    {
     "data": {
      "text/html": [
       "<h5>(left) Random model reward = Empty DataFrame\n",
       "Columns: [env_type, wind_power, turb_power, agent_type, avg_reward]\n",
       "Index: [] vs (right) PLAS model reward = Empty DataFrame\n",
       "Columns: [env_type, wind_power, turb_power, agent_type, avg_reward]\n",
       "Index: []</h5>"
      ],
      "text/plain": [
       "<IPython.core.display.HTML object>"
      ]
     },
     "metadata": {},
     "output_type": "display_data"
    },
    {
     "data": {
      "text/html": [
       "\n",
       "                        <div class=\"row\">\n",
       "                                <img src='report_files/random_w=10_t=2.0.gif' width=300> </img>\n",
       "                                <img src='report_files/plas_w=10_t=2.0.gif' width=300> </img>\n",
       "                        </div>\n",
       "                        "
      ],
      "text/plain": [
       "<IPython.core.display.HTML object>"
      ]
     },
     "metadata": {},
     "output_type": "display_data"
    },
    {
     "name": "stdout",
     "output_type": "stream",
     "text": [
      "\n"
     ]
    },
    {
     "data": {
      "text/html": [
       "<h4>wind_power = 15 | turbulence_power = 0.0</h4>"
      ],
      "text/plain": [
       "<IPython.core.display.HTML object>"
      ]
     },
     "metadata": {},
     "output_type": "display_data"
    },
    {
     "data": {
      "text/html": [
       "<h5>(left) Random model reward = Empty DataFrame\n",
       "Columns: [env_type, wind_power, turb_power, agent_type, avg_reward]\n",
       "Index: [] vs (right) PLAS model reward = Empty DataFrame\n",
       "Columns: [env_type, wind_power, turb_power, agent_type, avg_reward]\n",
       "Index: []</h5>"
      ],
      "text/plain": [
       "<IPython.core.display.HTML object>"
      ]
     },
     "metadata": {},
     "output_type": "display_data"
    },
    {
     "data": {
      "text/html": [
       "\n",
       "                        <div class=\"row\">\n",
       "                                <img src='report_files/random_w=15_t=0.0.gif' width=300> </img>\n",
       "                                <img src='report_files/plas_w=15_t=0.0.gif' width=300> </img>\n",
       "                        </div>\n",
       "                        "
      ],
      "text/plain": [
       "<IPython.core.display.HTML object>"
      ]
     },
     "metadata": {},
     "output_type": "display_data"
    },
    {
     "name": "stdout",
     "output_type": "stream",
     "text": [
      "\n"
     ]
    },
    {
     "data": {
      "text/html": [
       "<h4>wind_power = 15 | turbulence_power = 0.5</h4>"
      ],
      "text/plain": [
       "<IPython.core.display.HTML object>"
      ]
     },
     "metadata": {},
     "output_type": "display_data"
    },
    {
     "data": {
      "text/html": [
       "<h5>(left) Random model reward = Empty DataFrame\n",
       "Columns: [env_type, wind_power, turb_power, agent_type, avg_reward]\n",
       "Index: [] vs (right) PLAS model reward = Empty DataFrame\n",
       "Columns: [env_type, wind_power, turb_power, agent_type, avg_reward]\n",
       "Index: []</h5>"
      ],
      "text/plain": [
       "<IPython.core.display.HTML object>"
      ]
     },
     "metadata": {},
     "output_type": "display_data"
    },
    {
     "data": {
      "text/html": [
       "\n",
       "                        <div class=\"row\">\n",
       "                                <img src='report_files/random_w=15_t=0.5.gif' width=300> </img>\n",
       "                                <img src='report_files/plas_w=15_t=0.5.gif' width=300> </img>\n",
       "                        </div>\n",
       "                        "
      ],
      "text/plain": [
       "<IPython.core.display.HTML object>"
      ]
     },
     "metadata": {},
     "output_type": "display_data"
    },
    {
     "name": "stdout",
     "output_type": "stream",
     "text": [
      "\n"
     ]
    },
    {
     "data": {
      "text/html": [
       "<h4>wind_power = 15 | turbulence_power = 1.5</h4>"
      ],
      "text/plain": [
       "<IPython.core.display.HTML object>"
      ]
     },
     "metadata": {},
     "output_type": "display_data"
    },
    {
     "data": {
      "text/html": [
       "<h5>(left) Random model reward = Empty DataFrame\n",
       "Columns: [env_type, wind_power, turb_power, agent_type, avg_reward]\n",
       "Index: [] vs (right) PLAS model reward = Empty DataFrame\n",
       "Columns: [env_type, wind_power, turb_power, agent_type, avg_reward]\n",
       "Index: []</h5>"
      ],
      "text/plain": [
       "<IPython.core.display.HTML object>"
      ]
     },
     "metadata": {},
     "output_type": "display_data"
    },
    {
     "data": {
      "text/html": [
       "\n",
       "                        <div class=\"row\">\n",
       "                                <img src='report_files/random_w=15_t=1.5.gif' width=300> </img>\n",
       "                                <img src='report_files/plas_w=15_t=1.5.gif' width=300> </img>\n",
       "                        </div>\n",
       "                        "
      ],
      "text/plain": [
       "<IPython.core.display.HTML object>"
      ]
     },
     "metadata": {},
     "output_type": "display_data"
    },
    {
     "name": "stdout",
     "output_type": "stream",
     "text": [
      "\n"
     ]
    },
    {
     "data": {
      "text/html": [
       "<h4>wind_power = 15 | turbulence_power = 2.0</h4>"
      ],
      "text/plain": [
       "<IPython.core.display.HTML object>"
      ]
     },
     "metadata": {},
     "output_type": "display_data"
    },
    {
     "data": {
      "text/html": [
       "<h5>(left) Random model reward = Empty DataFrame\n",
       "Columns: [env_type, wind_power, turb_power, agent_type, avg_reward]\n",
       "Index: [] vs (right) PLAS model reward = Empty DataFrame\n",
       "Columns: [env_type, wind_power, turb_power, agent_type, avg_reward]\n",
       "Index: []</h5>"
      ],
      "text/plain": [
       "<IPython.core.display.HTML object>"
      ]
     },
     "metadata": {},
     "output_type": "display_data"
    },
    {
     "data": {
      "text/html": [
       "\n",
       "                        <div class=\"row\">\n",
       "                                <img src='report_files/random_w=15_t=2.0.gif' width=300> </img>\n",
       "                                <img src='report_files/plas_w=15_t=2.0.gif' width=300> </img>\n",
       "                        </div>\n",
       "                        "
      ],
      "text/plain": [
       "<IPython.core.display.HTML object>"
      ]
     },
     "metadata": {},
     "output_type": "display_data"
    },
    {
     "name": "stdout",
     "output_type": "stream",
     "text": [
      "\n"
     ]
    },
    {
     "data": {
      "text/html": [
       "<h4>wind_power = 20 | turbulence_power = 0.0</h4>"
      ],
      "text/plain": [
       "<IPython.core.display.HTML object>"
      ]
     },
     "metadata": {},
     "output_type": "display_data"
    },
    {
     "data": {
      "text/html": [
       "<h5>(left) Random model reward = Empty DataFrame\n",
       "Columns: [env_type, wind_power, turb_power, agent_type, avg_reward]\n",
       "Index: [] vs (right) PLAS model reward = Empty DataFrame\n",
       "Columns: [env_type, wind_power, turb_power, agent_type, avg_reward]\n",
       "Index: []</h5>"
      ],
      "text/plain": [
       "<IPython.core.display.HTML object>"
      ]
     },
     "metadata": {},
     "output_type": "display_data"
    },
    {
     "data": {
      "text/html": [
       "\n",
       "                        <div class=\"row\">\n",
       "                                <img src='report_files/random_w=20_t=0.0.gif' width=300> </img>\n",
       "                                <img src='report_files/plas_w=20_t=0.0.gif' width=300> </img>\n",
       "                        </div>\n",
       "                        "
      ],
      "text/plain": [
       "<IPython.core.display.HTML object>"
      ]
     },
     "metadata": {},
     "output_type": "display_data"
    },
    {
     "name": "stdout",
     "output_type": "stream",
     "text": [
      "\n"
     ]
    },
    {
     "data": {
      "text/html": [
       "<h4>wind_power = 20 | turbulence_power = 0.5</h4>"
      ],
      "text/plain": [
       "<IPython.core.display.HTML object>"
      ]
     },
     "metadata": {},
     "output_type": "display_data"
    },
    {
     "data": {
      "text/html": [
       "<h5>(left) Random model reward = Empty DataFrame\n",
       "Columns: [env_type, wind_power, turb_power, agent_type, avg_reward]\n",
       "Index: [] vs (right) PLAS model reward = Empty DataFrame\n",
       "Columns: [env_type, wind_power, turb_power, agent_type, avg_reward]\n",
       "Index: []</h5>"
      ],
      "text/plain": [
       "<IPython.core.display.HTML object>"
      ]
     },
     "metadata": {},
     "output_type": "display_data"
    },
    {
     "data": {
      "text/html": [
       "\n",
       "                        <div class=\"row\">\n",
       "                                <img src='report_files/random_w=20_t=0.5.gif' width=300> </img>\n",
       "                                <img src='report_files/plas_w=20_t=0.5.gif' width=300> </img>\n",
       "                        </div>\n",
       "                        "
      ],
      "text/plain": [
       "<IPython.core.display.HTML object>"
      ]
     },
     "metadata": {},
     "output_type": "display_data"
    },
    {
     "name": "stdout",
     "output_type": "stream",
     "text": [
      "\n"
     ]
    },
    {
     "data": {
      "text/html": [
       "<h4>wind_power = 20 | turbulence_power = 1.5</h4>"
      ],
      "text/plain": [
       "<IPython.core.display.HTML object>"
      ]
     },
     "metadata": {},
     "output_type": "display_data"
    },
    {
     "data": {
      "text/html": [
       "<h5>(left) Random model reward = Empty DataFrame\n",
       "Columns: [env_type, wind_power, turb_power, agent_type, avg_reward]\n",
       "Index: [] vs (right) PLAS model reward = Empty DataFrame\n",
       "Columns: [env_type, wind_power, turb_power, agent_type, avg_reward]\n",
       "Index: []</h5>"
      ],
      "text/plain": [
       "<IPython.core.display.HTML object>"
      ]
     },
     "metadata": {},
     "output_type": "display_data"
    },
    {
     "data": {
      "text/html": [
       "\n",
       "                        <div class=\"row\">\n",
       "                                <img src='report_files/random_w=20_t=1.5.gif' width=300> </img>\n",
       "                                <img src='report_files/plas_w=20_t=1.5.gif' width=300> </img>\n",
       "                        </div>\n",
       "                        "
      ],
      "text/plain": [
       "<IPython.core.display.HTML object>"
      ]
     },
     "metadata": {},
     "output_type": "display_data"
    },
    {
     "name": "stdout",
     "output_type": "stream",
     "text": [
      "\n"
     ]
    },
    {
     "data": {
      "text/html": [
       "<h4>wind_power = 20 | turbulence_power = 2.0</h4>"
      ],
      "text/plain": [
       "<IPython.core.display.HTML object>"
      ]
     },
     "metadata": {},
     "output_type": "display_data"
    },
    {
     "data": {
      "text/html": [
       "<h5>(left) Random model reward = Empty DataFrame\n",
       "Columns: [env_type, wind_power, turb_power, agent_type, avg_reward]\n",
       "Index: [] vs (right) PLAS model reward = Empty DataFrame\n",
       "Columns: [env_type, wind_power, turb_power, agent_type, avg_reward]\n",
       "Index: []</h5>"
      ],
      "text/plain": [
       "<IPython.core.display.HTML object>"
      ]
     },
     "metadata": {},
     "output_type": "display_data"
    },
    {
     "data": {
      "text/html": [
       "\n",
       "                        <div class=\"row\">\n",
       "                                <img src='report_files/random_w=20_t=2.0.gif' width=300> </img>\n",
       "                                <img src='report_files/plas_w=20_t=2.0.gif' width=300> </img>\n",
       "                        </div>\n",
       "                        "
      ],
      "text/plain": [
       "<IPython.core.display.HTML object>"
      ]
     },
     "metadata": {},
     "output_type": "display_data"
    },
    {
     "name": "stdout",
     "output_type": "stream",
     "text": [
      "\n"
     ]
    }
   ],
   "source": [
    "wind_powers = np.arange(0, 21, 5)\n",
    "turb_powers = np.arange(0, 2.5, 0.5)\n",
    "\n",
    "for w in wind_powers:\n",
    "    for t in turb_powers:\n",
    "        if w != 5 and t != 1: # this is the baseline\n",
    "            w = np.around(w, 3)\n",
    "            t = np.around(t, 3)            \n",
    "            \n",
    "            rand_reward = np.around(df_results[(df_results.agent_type=='random') \n",
    "                                               & (df_results.wind_power == w) \n",
    "                                               & (df_results.turb_power== t)], 3)\n",
    "            plas_reward = np.around(df_results[(df_results.agent_type=='plas') \n",
    "                                               & (df_results.wind_power == w) \n",
    "                                               & (df_results.turb_power== t)], 3)\n",
    "            \n",
    "            display(HTML(f\"<h4>wind_power = {w} | turbulence_power = {t}</h4>\"))\n",
    "            display(HTML(f\"<h5>(left) Random model reward = {rand_reward} vs (right) PLAS model reward = {plas_reward}</h5>\"))\n",
    "            display(HTML(f\"\"\"\n",
    "                        <div class=\"row\">\n",
    "                                <img src='report_files/random_w={w}_t={t}.gif' width=300> </img>\n",
    "                                <img src='report_files/plas_w={w}_t={t}.gif' width=300> </img>\n",
    "                        </div>\n",
    "                        \"\"\"))\n",
    "            print()"
   ]
  },
  {
   "cell_type": "markdown",
   "id": "9c60885b-085f-4f5e-84a0-47d53f544e59",
   "metadata": {},
   "source": [
    "## August 30, 2022 Update\n",
    "\n",
    "### Experiments\n",
    "* Evaluated the performance of the PLAS model on three datasets for the bullet walker simulation\n",
    "    * `bullet-walker2d-random-v0-0` - collected using a random policy\n",
    "    * `bullet-walker2d-medium-v0-0` - collected using a medium policy (not random but not expert)\n",
    "    * `bullet-walker2d-expert-v0-0` - collected using an expert policy (well-trained model\n",
    "* Environment is the default `bullet-walker2d` environment\n",
    "\n",
    "### Takeaways\n",
    "* Model trained on data from a expert policy performs the best\n",
    "    * Dropped off quickly over training iterations - this is not what we want.\n",
    "    * **Can this be a point of improvement?**\n",
    "* Model trained on data from a medium policy can perform better than random\n",
    "    * Learning is unstable over training iterations\n",
    "    * **Can we somehow stabilize this?**\n",
    "* Model trained on random can learn a policy better than random but the performance is not so good\n",
    "    * The VAE model underfits the data\n",
    "    * The best the model is able to do is keep the robot stationary and not fall down\n",
    "    * This may be very difficult - extrapolating good action-state combinations from a dataset of not-so-good action-state combinations\n",
    "\n",
    "### Notebook\n",
    "* See `experiments_bulletwalker.ipynb` for details of the experiment\n"
   ]
  },
  {
   "cell_type": "code",
   "execution_count": null,
   "id": "fd66cd61-bbf5-47a3-bb1d-4e910af98156",
   "metadata": {},
   "outputs": [],
   "source": [
    "IFrame('https://docs.google.com/presentation/d/e/2PACX-1vSI_Ea2Vl7JAB8cOz42qJC3uFaW7B_-c5mqEE72DwbmVutuzuEiHxWWh9fCYSlcFs9m2MG88pvjd3xZ/embed?start=false&loop=false&delayms=3000', \n",
    "       '100%', '600')"
   ]
  },
  {
   "cell_type": "code",
   "execution_count": null,
   "id": "b5e32f62-841d-4e89-844e-47adb2d46177",
   "metadata": {},
   "outputs": [],
   "source": []
  }
 ],
 "metadata": {
  "kernelspec": {
   "display_name": "Python 3",
   "language": "python",
   "name": "python3"
  },
  "language_info": {
   "codemirror_mode": {
    "name": "ipython",
    "version": 3
   },
   "file_extension": ".py",
   "mimetype": "text/x-python",
   "name": "python",
   "nbconvert_exporter": "python",
   "pygments_lexer": "ipython3",
   "version": "3.7.4"
  }
 },
 "nbformat": 4,
 "nbformat_minor": 5
}
