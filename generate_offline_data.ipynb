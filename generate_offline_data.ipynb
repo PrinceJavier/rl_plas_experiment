{
 "cells": [
  {
   "cell_type": "markdown",
   "id": "c1850bbe-f3f1-4f8e-be86-49f3f8b54a3a",
   "metadata": {},
   "source": [
    "# Generate Offline Data"
   ]
  },
  {
   "cell_type": "code",
   "execution_count": null,
   "id": "08057cf8-28b5-48d5-a023-53f645b29eb0",
   "metadata": {},
   "outputs": [],
   "source": []
  }
 ],
 "metadata": {
  "kernelspec": {
   "display_name": "Python 3",
   "language": "python",
   "name": "python3"
  },
  "language_info": {
   "codemirror_mode": {
    "name": "ipython",
    "version": 3
   },
   "file_extension": ".py",
   "mimetype": "text/x-python",
   "name": "python",
   "nbconvert_exporter": "python",
   "pygments_lexer": "ipython3",
   "version": "3.7.4"
  }
 },
 "nbformat": 4,
 "nbformat_minor": 5
}
